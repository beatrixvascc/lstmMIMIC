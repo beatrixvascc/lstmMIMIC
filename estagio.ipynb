{
 "cells": [
  {
   "cell_type": "code",
   "execution_count": 165,
   "metadata": {},
   "outputs": [],
   "source": [
    "import numpy as np\n",
    "import pandas as pd\n",
    "import matplotlib.pyplot as plt\n",
    "import seaborn as sns"
   ]
  },
  {
   "cell_type": "markdown",
   "metadata": {},
   "source": [
    "usando a versao reduzida da mimic iv-demo"
   ]
  },
  {
   "cell_type": "code",
   "execution_count": 166,
   "metadata": {},
   "outputs": [
    {
     "data": {
      "text/html": [
       "<div>\n",
       "<style scoped>\n",
       "    .dataframe tbody tr th:only-of-type {\n",
       "        vertical-align: middle;\n",
       "    }\n",
       "\n",
       "    .dataframe tbody tr th {\n",
       "        vertical-align: top;\n",
       "    }\n",
       "\n",
       "    .dataframe thead th {\n",
       "        text-align: right;\n",
       "    }\n",
       "</style>\n",
       "<table border=\"1\" class=\"dataframe\">\n",
       "  <thead>\n",
       "    <tr style=\"text-align: right;\">\n",
       "      <th></th>\n",
       "      <th>subject_id</th>\n",
       "      <th>admittime</th>\n",
       "    </tr>\n",
       "  </thead>\n",
       "  <tbody>\n",
       "    <tr>\n",
       "      <th>0</th>\n",
       "      <td>10004235</td>\n",
       "      <td>2196-02-24 14:38:00</td>\n",
       "    </tr>\n",
       "    <tr>\n",
       "      <th>1</th>\n",
       "      <td>10009628</td>\n",
       "      <td>2153-09-17 17:08:00</td>\n",
       "    </tr>\n",
       "    <tr>\n",
       "      <th>2</th>\n",
       "      <td>10018081</td>\n",
       "      <td>2134-08-18 02:02:00</td>\n",
       "    </tr>\n",
       "    <tr>\n",
       "      <th>3</th>\n",
       "      <td>10006053</td>\n",
       "      <td>2111-11-13 23:39:00</td>\n",
       "    </tr>\n",
       "    <tr>\n",
       "      <th>4</th>\n",
       "      <td>10031404</td>\n",
       "      <td>2113-08-04 18:46:00</td>\n",
       "    </tr>\n",
       "  </tbody>\n",
       "</table>\n",
       "</div>"
      ],
      "text/plain": [
       "   subject_id            admittime\n",
       "0    10004235  2196-02-24 14:38:00\n",
       "1    10009628  2153-09-17 17:08:00\n",
       "2    10018081  2134-08-18 02:02:00\n",
       "3    10006053  2111-11-13 23:39:00\n",
       "4    10031404  2113-08-04 18:46:00"
      ]
     },
     "execution_count": 166,
     "metadata": {},
     "output_type": "execute_result"
    }
   ],
   "source": [
    "file1 = pd.read_csv(\"C:\\\\Users\\\\beatr\\\\Downloads\\\\mimic-iv-clinical-database-demo-2.2 2\\\\mimic-iv-clinical-database-demo-2.2\\\\hosp\\\\admissions.csv.gz\")\n",
    "columns = ['subject_id','admittime']\n",
    "file1=file1[columns]\n",
    "file1.columns = file1.columns.str.strip() \n",
    "file1.head()"
   ]
  },
  {
   "cell_type": "markdown",
   "metadata": {},
   "source": [
    "nao existe valores NaN"
   ]
  },
  {
   "cell_type": "code",
   "execution_count": 167,
   "metadata": {},
   "outputs": [
    {
     "data": {
      "text/plain": [
       "subject_id    0\n",
       "admittime     0\n",
       "dtype: int64"
      ]
     },
     "execution_count": 167,
     "metadata": {},
     "output_type": "execute_result"
    }
   ],
   "source": [
    "file1.isna().sum() "
   ]
  },
  {
   "cell_type": "markdown",
   "metadata": {},
   "source": [
    "criando listas de icd code para cada subject id e criando novas colunas que representam positivo ou negativo pra sepse, diabetes, calafrios, hipertensao, hipotermia, febre, hipoglicemia e confusao mental."
   ]
  },
  {
   "cell_type": "code",
   "execution_count": 168,
   "metadata": {},
   "outputs": [
    {
     "data": {
      "text/html": [
       "<div>\n",
       "<style scoped>\n",
       "    .dataframe tbody tr th:only-of-type {\n",
       "        vertical-align: middle;\n",
       "    }\n",
       "\n",
       "    .dataframe tbody tr th {\n",
       "        vertical-align: top;\n",
       "    }\n",
       "\n",
       "    .dataframe thead th {\n",
       "        text-align: right;\n",
       "    }\n",
       "</style>\n",
       "<table border=\"1\" class=\"dataframe\">\n",
       "  <thead>\n",
       "    <tr style=\"text-align: right;\">\n",
       "      <th></th>\n",
       "      <th>subject_id</th>\n",
       "      <th>icd_code</th>\n",
       "      <th>icd_version</th>\n",
       "    </tr>\n",
       "  </thead>\n",
       "  <tbody>\n",
       "    <tr>\n",
       "      <th>0</th>\n",
       "      <td>10000032</td>\n",
       "      <td>[2761, V08, 2875, 3051, 5715, 496, 07071, 7895...</td>\n",
       "      <td>[9, 9, 9, 9, 9, 9, 9, 9, 9, 9, 9, 9, 9, 9, 9, ...</td>\n",
       "    </tr>\n",
       "    <tr>\n",
       "      <th>1</th>\n",
       "      <td>10001217</td>\n",
       "      <td>[V168, V161, 04109, 3485, 4019, 3484, 3240, 34...</td>\n",
       "      <td>[9, 9, 9, 9, 9, 9, 9, 9, 9, 9, 9, 9, 9, 9, 9, ...</td>\n",
       "    </tr>\n",
       "    <tr>\n",
       "      <th>2</th>\n",
       "      <td>10001725</td>\n",
       "      <td>[49390, 7291, 6185, 56400, 5641, E9352, 6186, ...</td>\n",
       "      <td>[9, 9, 9, 9, 9, 9, 9, 9, 9, 9, 9, 9, 9, 9, 9, ...</td>\n",
       "    </tr>\n",
       "    <tr>\n",
       "      <th>3</th>\n",
       "      <td>10002428</td>\n",
       "      <td>[4019, 29281, 4240, 00845, 1122, 7102, 73300, ...</td>\n",
       "      <td>[9, 9, 9, 9, 9, 9, 9, 9, 9, 9, 9, 9, 9, 9, 9, ...</td>\n",
       "    </tr>\n",
       "    <tr>\n",
       "      <th>4</th>\n",
       "      <td>10002495</td>\n",
       "      <td>[R310, N179, Z7901, Z86718, I214, A047, Z23, K...</td>\n",
       "      <td>[10, 10, 10, 10, 10, 10, 10, 10, 10, 10, 10, 1...</td>\n",
       "    </tr>\n",
       "  </tbody>\n",
       "</table>\n",
       "</div>"
      ],
      "text/plain": [
       "   subject_id                                           icd_code  \\\n",
       "0    10000032  [2761, V08, 2875, 3051, 5715, 496, 07071, 7895...   \n",
       "1    10001217  [V168, V161, 04109, 3485, 4019, 3484, 3240, 34...   \n",
       "2    10001725  [49390, 7291, 6185, 56400, 5641, E9352, 6186, ...   \n",
       "3    10002428  [4019, 29281, 4240, 00845, 1122, 7102, 73300, ...   \n",
       "4    10002495  [R310, N179, Z7901, Z86718, I214, A047, Z23, K...   \n",
       "\n",
       "                                         icd_version  \n",
       "0  [9, 9, 9, 9, 9, 9, 9, 9, 9, 9, 9, 9, 9, 9, 9, ...  \n",
       "1  [9, 9, 9, 9, 9, 9, 9, 9, 9, 9, 9, 9, 9, 9, 9, ...  \n",
       "2  [9, 9, 9, 9, 9, 9, 9, 9, 9, 9, 9, 9, 9, 9, 9, ...  \n",
       "3  [9, 9, 9, 9, 9, 9, 9, 9, 9, 9, 9, 9, 9, 9, 9, ...  \n",
       "4  [10, 10, 10, 10, 10, 10, 10, 10, 10, 10, 10, 1...  "
      ]
     },
     "execution_count": 168,
     "metadata": {},
     "output_type": "execute_result"
    }
   ],
   "source": [
    "file2 = pd.read_csv(\"C:\\\\Users\\\\beatr\\\\Downloads\\\\mimic-iv-clinical-database-demo-2.2 2\\\\mimic-iv-clinical-database-demo-2.2\\\\hosp\\\\diagnoses_icd.csv.gz\")\n",
    "file2.columns = file2.columns.str.strip()\n",
    "columns = ['subject_id','icd_code','icd_version']\n",
    "file2=file2[columns]\n",
    "file2 = file2.groupby('subject_id').agg({\n",
    "    'icd_code': lambda x: list(x),\n",
    "    'icd_version': lambda x: list(x)\n",
    "}).reset_index()\n",
    "file2.head()"
   ]
  },
  {
   "cell_type": "code",
   "execution_count": 169,
   "metadata": {},
   "outputs": [],
   "source": [
    "file3 = pd.read_csv(\"C:\\\\Users\\\\beatr\\\\Downloads\\\\mimic-iv-clinical-database-demo-2.2 2\\\\mimic-iv-clinical-database-demo-2.2\\\\hosp\\\\d_icd_diagnoses.csv.gz\")\n",
    "file3.columns = file3.columns.str.strip()"
   ]
  },
  {
   "cell_type": "code",
   "execution_count": 170,
   "metadata": {},
   "outputs": [
    {
     "name": "stdout",
     "output_type": "stream",
     "text": [
      "[('67020', 9), ('77181', 9), ('67022', 9), ('67024', 9), ('99591', 9), ('99592', 9), ('A4189', 10), ('A5486', 10), ('A41', 10), ('A227', 10), ('A427', 10), ('A408', 10), ('A4153', 10), ('O0387', 10), ('A400', 10), ('O85', 10), ('O0487', 10), ('R652', 10), ('O0337', 10), ('T8144XS', 10), ('P362', 10), ('A409', 10), ('A4151', 10), ('A40', 10), ('T8144', 10), ('T8144XD', 10), ('A411', 10), ('A410', 10), ('P368', 10), ('O0882', 10), ('P360', 10), ('O0737', 10), ('P361', 10), ('A413', 10), ('A403', 10), ('P369', 10), ('A267', 10), ('A4101', 10), ('A414', 10), ('A419', 10), ('O8604', 10), ('P363', 10), ('P3630', 10), ('A021', 10), ('A4102', 10), ('A4181', 10), ('A418', 10), ('A401', 10), ('A412', 10), ('B377', 10), ('P3639', 10), ('P365', 10), ('A4150', 10), ('A4159', 10), ('P3619', 10), ('A415', 10), ('A327', 10), ('R6520', 10), ('P3610', 10), ('R6521', 10), ('T8144XA', 10), ('P36', 10), ('A4152', 10), ('P364', 10)]\n"
     ]
    }
   ],
   "source": [
    "sepse_matches = file3[file3['long_title'].str.contains('sepsis', case=False, na=False)]\n",
    "unique_icd_codes = sepse_matches[['icd_code','icd_version']].drop_duplicates()\n",
    "lista_sepse = list(unique_icd_codes.itertuples(index=False, name=None))\n",
    "print(lista_sepse)"
   ]
  },
  {
   "cell_type": "code",
   "execution_count": 171,
   "metadata": {},
   "outputs": [
    {
     "name": "stdout",
     "output_type": "stream",
     "text": [
      "[('25010', 9), ('25053', 9), ('25050', 9), ('3572', 9), ('24931', 9), ('24921', 9), ('25020', 9), ('25033', 9), ('25012', 9), ('25073', 9), ('25083', 9), ('25090', 9), ('25061', 9), ('25072', 9), ('24900', 9), ('25031', 9), ('25052', 9), ('24991', 9), ('25092', 9), ('24930', 9), ('24950', 9), ('24951', 9), ('25062', 9), ('7751', 9), ('24941', 9), ('25011', 9), ('25013', 9), ('24960', 9), ('25000', 9), ('25030', 9), ('25041', 9), ('64802', 9), ('25080', 9), ('24901', 9), ('24990', 9), ('25032', 9), ('5881', 9), ('V1221', 9), ('V180', 9), ('24910', 9), ('64804', 9), ('24920', 9), ('24970', 9), ('25042', 9), ('25063', 9), ('64803', 9), ('25093', 9), ('25081', 9), ('25021', 9), ('25051', 9), ('25091', 9), ('25023', 9), ('25001', 9), ('25082', 9), ('64801', 9), ('24980', 9), ('25002', 9), ('24961', 9), ('25022', 9), ('64800', 9), ('24940', 9), ('25003', 9), ('25040', 9), ('25043', 9), ('25060', 9), ('2535', 9), ('V771', 9), ('24971', 9), ('24981', 9), ('24911', 9), ('25070', 9), ('25071', 9), ('E08311', 10), ('E083511', 10), ('E08355', 10), ('E093541', 10), ('E0936', 10), ('E10630', 10), ('E113293', 10), ('E11339', 10), ('E113551', 10), ('E1152', 10), ('E133292', 10), ('E13610', 10), ('O24913', 10), ('E083513', 10), ('E0949', 10), ('E0962', 10), ('E103393', 10), ('E103493', 10), ('E103513', 10), ('E1039', 10), ('E113291', 10), ('E113529', 10), ('E1311', 10), ('E0910', 10), ('E093492', 10), ('E103219', 10), ('E10351', 10), ('E1042', 10), ('E10620', 10), ('E11329', 10), ('E113411', 10), ('E113552', 10), ('E133549', 10), ('O2483', 10), ('E083292', 10), ('E08610', 10), ('E09321', 10), ('E093212', 10), ('E0937X3', 10), ('E103533', 10), ('E106', 10), ('E10641', 10), ('E113292', 10), ('E11355', 10), ('E1164', 10), ('E130', 10), ('E133531', 10), ('E0833', 10), ('E083551', 10), ('E093312', 10), ('E09351', 10), ('E093531', 10), ('E1022', 10), ('E103211', 10), ('E10341', 10), ('E103413', 10), ('E1137X2', 10), ('E1335', 10), ('E232', 10), ('E08341', 10), ('E083542', 10), ('E083599', 10), ('E0869', 10), ('E09', 10), ('E103412', 10), ('E103531', 10), ('E1063', 10), ('E11321', 10), ('E113521', 10), ('E133', 10), ('E133211', 10), ('E13331', 10), ('E133411', 10), ('E133551', 10), ('O2413', 10), ('O2433', 10), ('O2482', 10), ('E083549', 10), ('E085', 10), ('E086', 10), ('E095', 10), ('E103299', 10), ('E103521', 10), ('E103529', 10), ('E1129', 10), ('E113519', 10), ('E133541', 10), ('E134', 10), ('O2493', 10), ('Z8632', 10), ('E083313', 10), ('E08339', 10), ('E083529', 10), ('E08353', 10), ('E083593', 10), ('E0837X3', 10), ('E0861', 10), ('E093299', 10), ('E10628', 10), ('E11319', 10), ('E113412', 10), ('E113413', 10), ('E11353', 10), ('E11641', 10), ('E133393', 10), ('E13359', 10), ('E092', 10), ('E09352', 10), ('E103522', 10), ('E103591', 10), ('E1300', 10), ('E133392', 10), ('E133413', 10), ('E08649', 10), ('E11359', 10), ('E1151', 10), ('E1343', 10), ('E1363', 10), ('O2402', 10), ('O243', 10), ('E0800', 10), ('E083219', 10), ('E08620', 10), ('E093592', 10), ('E0937', 10), ('E103313', 10), ('E10353', 10), ('E103549', 10), ('E1111', 10), ('E11331', 10), ('E1301', 10), ('E139', 10), ('O24434', 10), ('E101', 10), ('E10331', 10), ('E103532', 10), ('E113531', 10), ('E133553', 10), ('O24912', 10), ('E0821', 10), ('E08319', 10), ('E0837X9', 10), ('E0865', 10), ('E103492', 10), ('E11', 10), ('E113592', 10), ('E133312', 10), ('E1334', 10), ('E133492', 10), ('E13638', 10), ('E1364', 10), ('O24819', 10), ('E083413', 10), ('E0901', 10), ('E093399', 10), ('E093493', 10), ('E09353', 10), ('E1035', 10), ('E1136', 10), ('E1137X9', 10), ('E131', 10), ('E1341', 10), ('O24', 10), ('O24111', 10), ('E093551', 10), ('E10', 10), ('E113513', 10), ('E113593', 10), ('E133313', 10), ('E1336', 10), ('E1352', 10), ('E13628', 10), ('E08', 10), ('E08321', 10), ('E083213', 10), ('E0837', 10), ('E093549', 10), ('E1134', 10), ('E1161', 10), ('E133319', 10), ('E13349', 10), ('E1340', 10), ('O248', 10), ('O2481', 10), ('E08352', 10), ('E0900', 10), ('E0933', 10), ('E09331', 10), ('E093391', 10), ('E1033', 10), ('E10638', 10), ('E113553', 10), ('E1329', 10), ('E133499', 10), ('E1337', 10), ('E1365', 10), ('E089', 10), ('E093543', 10), ('E1021', 10), ('E103543', 10), ('E1037X3', 10), ('E1132', 10), ('E113311', 10), ('E133212', 10), ('E133599', 10), ('E138', 10), ('O2401', 10), ('E080', 10), ('E0829', 10), ('E0832', 10), ('E083399', 10), ('E0921', 10), ('E093311', 10), ('E09349', 10), ('E094', 10), ('E09641', 10), ('E1010', 10), ('E103539', 10), ('E113392', 10), ('E113549', 10), ('E133412', 10), ('E133512', 10), ('E133513', 10), ('E083592', 10), ('E090', 10), ('E0929', 10), ('E09319', 10), ('E093539', 10), ('E103419', 10), ('E1149', 10), ('E1169', 10), ('E1344', 10), ('O240', 10), ('O24113', 10), ('E083512', 10), ('E0836', 10), ('E08630', 10), ('E093559', 10), ('E10321', 10), ('E1140', 10), ('E1322', 10), ('E133213', 10), ('E133311', 10), ('N251', 10), ('O24019', 10), ('O24311', 10), ('E08354', 10), ('E0862', 10), ('E09311', 10), ('E09355', 10), ('E093553', 10), ('E0952', 10), ('E113312', 10), ('E113523', 10), ('E1139', 10), ('E133293', 10), ('E1342', 10), ('E0811', 10), ('E083552', 10), ('E093519', 10), ('E113399', 10), ('E11352', 10), ('E113559', 10), ('E11649', 10), ('E1331', 10), ('E13352', 10), ('E13353', 10), ('E1359', 10), ('O24012', 10), ('E083393', 10), ('E083532', 10), ('E083553', 10), ('E08359', 10), ('E08638', 10), ('E091', 10), ('E0959', 10), ('E103312', 10), ('E103542', 10), ('E1069', 10), ('E113', 10), ('E113532', 10), ('E11638', 10), ('E13341', 10), ('E083392', 10), ('E0859', 10), ('E08641', 10), ('E093591', 10), ('E0965', 10), ('E103', 10), ('E110', 10), ('E1131', 10), ('E1333', 10), ('O24414', 10), ('O2491', 10), ('R7303', 10), ('E08331', 10), ('E083411', 10), ('E083533', 10), ('E0922', 10), ('E093499', 10), ('E093513', 10), ('E103411', 10), ('E10610', 10), ('E1100', 10), ('E133493', 10), ('E133542', 10), ('E133559', 10), ('O24011', 10), ('O24425', 10), ('P700', 10), ('E083312', 10), ('E0931', 10), ('E093319', 10), ('E0934', 10), ('E0964', 10), ('E1133', 10), ('E113313', 10), ('E1163', 10), ('E1337X3', 10), ('E136', 10), ('O24319', 10), ('E0851', 10), ('E08628', 10), ('E10329', 10), ('E103512', 10), ('E10354', 10), ('E1037X1', 10), ('E1122', 10), ('E113213', 10), ('E11341', 10), ('E113543', 10), ('E1141', 10), ('E11618', 10), ('E13', 10), ('E133529', 10), ('E1361', 10), ('E13620', 10), ('E13622', 10), ('O24435', 10), ('E0810', 10), ('E093', 10), ('E093522', 10), ('E093542', 10), ('E103213', 10), ('E103292', 10), ('E103592', 10), ('E113533', 10), ('E113591', 10), ('E1349', 10), ('O241', 10), ('O2432', 10), ('O24919', 10), ('E0837X2', 10), ('E09630', 10), ('E103391', 10), ('E10349', 10), ('E103593', 10), ('E10618', 10), ('E1310', 10), ('E133391', 10), ('E133399', 10), ('E133592', 10), ('E083', 10), ('E083391', 10), ('E083539', 10), ('E0843', 10), ('E0844', 10), ('E09341', 10), ('E09610', 10), ('E0963', 10), ('E09638', 10), ('E0969', 10), ('E1110', 10), ('E1137', 10), ('E116', 10), ('E13311', 10), ('E133491', 10), ('Z833', 10), ('E08622', 10), ('E093313', 10), ('E093593', 10), ('E118', 10), ('E133419', 10), ('O24410', 10), ('O24430', 10), ('E083491', 10), ('E083492', 10), ('E0837X1', 10), ('E0840', 10), ('E093419', 10), ('E0935', 10), ('E093599', 10), ('E0937X2', 10), ('E0944', 10), ('E103293', 10), ('E103511', 10), ('E103523', 10), ('E1041', 10), ('E10621', 10), ('E113491', 10), ('E113499', 10), ('E11628', 10), ('E1165', 10), ('E133523', 10), ('E13355', 10), ('E1337X1', 10), ('O2411', 10), ('E083519', 10), ('E083531', 10), ('E083591', 10), ('E093213', 10), ('E093291', 10), ('E093412', 10), ('E0937X1', 10), ('E0939', 10), ('E1143', 10), ('E133533', 10), ('E135', 10), ('E13618', 10), ('E13621', 10), ('O24313', 10), ('O24811', 10), ('E0801', 10), ('E083522', 10), ('E083523', 10), ('E083541', 10), ('E088', 10), ('E0942', 10), ('E103291', 10), ('E113492', 10), ('E114', 10), ('E1337X9', 10), ('E0822', 10), ('E083543', 10), ('E093292', 10), ('E093392', 10), ('E093523', 10), ('E09628', 10), ('E103599', 10), ('E1061', 10), ('E113391', 10), ('E113493', 10), ('E113539', 10), ('E11622', 10), ('E119', 10), ('E132', 10), ('E133299', 10), ('E1351', 10), ('E083499', 10), ('E093219', 10), ('E093512', 10), ('E0951', 10), ('E09618', 10), ('E1062', 10), ('E10649', 10), ('E113393', 10), ('E133543', 10), ('O2403', 10), ('O24112', 10), ('E083299', 10), ('E083493', 10), ('E083559', 10), ('E08618', 10), ('E0911', 10), ('E093211', 10), ('E09339', 10), ('E093491', 10), ('E093552', 10), ('E103392', 10), ('E103499', 10), ('E1049', 10), ('E1064', 10), ('E11351', 10), ('E1137X3', 10), ('E133291', 10), ('E133519', 10), ('E133532', 10), ('E083212', 10), ('E083412', 10), ('E08351', 10), ('E093393', 10), ('E09359', 10), ('E0943', 10), ('E1011', 10), ('E105', 10), ('E113219', 10), ('E11630', 10), ('O2441', 10), ('O24439', 10), ('O249', 10), ('O2492', 10), ('E08329', 10), ('E0834', 10), ('E0839', 10), ('E084', 10), ('E093532', 10), ('E10311', 10), ('E10339', 10), ('E103519', 10), ('E1043', 10), ('E10622', 10), ('E1065', 10), ('E1101', 10), ('E113419', 10), ('E113511', 10), ('E113522', 10), ('E11354', 10), ('E11620', 10), ('E133511', 10), ('E083311', 10), ('E0932', 10), ('E093521', 10), ('E1032', 10), ('E103319', 10), ('E103541', 10), ('E10355', 10), ('E103559', 10), ('E1037X9', 10), ('E108', 10), ('E1137X1', 10), ('E11621', 10), ('E1362', 10), ('E13630', 10), ('E083291', 10), ('E083293', 10), ('E083319', 10), ('E093511', 10), ('E0941', 10), ('E096', 10), ('E099', 10), ('E1029', 10), ('E1037', 10), ('E1037X2', 10), ('E113299', 10), ('E11349', 10), ('E113512', 10), ('E113541', 10), ('E113542', 10), ('E113599', 10), ('E13351', 10), ('E133591', 10), ('O24424', 10), ('E083211', 10), ('E0842', 10), ('E0863', 10), ('E1031', 10), ('E103552', 10), ('E1040', 10), ('E1121', 10), ('E11311', 10), ('E1142', 10), ('O2412', 10), ('E08349', 10), ('E093413', 10), ('E093529', 10), ('E113212', 10), ('E1332', 10), ('E133552', 10), ('O24415', 10), ('E082', 10), ('E0835', 10), ('E0849', 10), ('E093293', 10), ('E09354', 10), ('E0937X9', 10), ('E0961', 10), ('E09622', 10), ('E098', 10), ('E103212', 10), ('E112', 10), ('E1135', 10), ('E133593', 10), ('E13641', 10), ('O24119', 10), ('O24813', 10), ('Z131', 10), ('E081', 10), ('E102', 10), ('E1034', 10), ('E103551', 10), ('E103553', 10), ('E1059', 10), ('E13319', 10), ('O24013', 10), ('O2431', 10), ('O24429', 10), ('O24812', 10), ('E0852', 10), ('E10319', 10), ('E103399', 10), ('E103491', 10), ('E10352', 10), ('E104', 10), ('E113319', 10), ('E1321', 10), ('E13321', 10), ('E133219', 10), ('E13339', 10), ('E133522', 10), ('E1339', 10), ('E1369', 10), ('O24312', 10), ('O244', 10), ('O2442', 10), ('E08621', 10), ('E0940', 10), ('E09649', 10), ('E10359', 10), ('E1051', 10), ('E1052', 10), ('E11610', 10), ('E133521', 10), ('E13649', 10), ('O24420', 10), ('O2443', 10), ('O24911', 10), ('E0831', 10), ('E083419', 10), ('E0864', 10), ('E09620', 10), ('E103311', 10), ('E1036', 10), ('E1044', 10), ('E109', 10), ('E115', 10), ('E13354', 10), ('O24419', 10), ('E083521', 10), ('E0841', 10), ('E09329', 10), ('E093411', 10), ('E093533', 10), ('E09621', 10), ('E111', 10), ('E113211', 10), ('E1144', 10), ('E1159', 10), ('E1162', 10), ('E13329', 10), ('E133539', 10), ('E1337X2', 10), ('P702', 10)]\n"
     ]
    }
   ],
   "source": [
    "diabetes_matches = file3[file3['long_title'].str.contains('diabetes', case=False)]\n",
    "unique_icd_codes = diabetes_matches[['icd_code','icd_version']].drop_duplicates()\n",
    "lista_diabetes = list(unique_icd_codes.itertuples(index=False, name=None))\n",
    "print(lista_diabetes)"
   ]
  },
  {
   "cell_type": "code",
   "execution_count": 172,
   "metadata": {},
   "outputs": [
    {
     "name": "stdout",
     "output_type": "stream",
     "text": [
      "[('78060', 9), ('390', 9), ('0023', 9), ('0821', 9), ('0651', 9), ('0820', 9), ('0871', 9), ('0658', 9), ('0601', 9), ('06640', 9), ('06642', 9), ('0659', 9), ('0653', 9), ('0269', 9), ('0787', 9), ('06641', 9), ('0662', 9), ('78063', 9), ('78064', 9), ('0650', 9), ('0029', 9), ('0848', 9), ('V734', 9), ('0021', 9), ('0261', 9), ('27731', 9), ('V044', 9), ('0663', 9), ('06649', 9), ('0782', 9), ('78062', 9), ('0654', 9), ('0661', 9), ('0879', 9), ('0609', 9), ('0660', 9), ('E9493', 9), ('0020', 9), ('0870', 9), ('78061', 9), ('0260', 9), ('7806', 9), ('0822', 9), ('0341', 9), ('0831', 9), ('0600', 9), ('0022', 9), ('0830', 9), ('9793', 9), ('0772', 9), ('A681', 10), ('A770', 10), ('A012', 10), ('A779', 10), ('A921', 10), ('A93', 10), ('A960', 10), ('A962', 10), ('A752', 10), ('A99', 10), ('A01', 10), ('A482', 10), ('A680', 10), ('A969', 10), ('A988', 10), ('A950', 10), ('A959', 10), ('A968', 10), ('A0102', 10), ('A753', 10), ('A938', 10), ('A961', 10), ('R5083', 10), ('A790', 10), ('A951', 10), ('A90', 10), ('A38', 10), ('A880', 10), ('A98', 10), ('I00', 10), ('A389', 10), ('A010', 10), ('A0100', 10), ('A772', 10), ('R5082', 10), ('A773', 10), ('A96', 10), ('R50', 10), ('A381', 10), ('A68', 10), ('A928', 10), ('A0109', 10), ('A759', 10), ('A980', 10), ('M041', 10), ('A75', 10), ('A778', 10), ('A013', 10), ('A25', 10), ('R509', 10), ('A91', 10), ('A924', 10), ('A985', 10), ('A94', 10), ('A689', 10), ('A981', 10), ('A011', 10), ('A380', 10), ('R502', 10), ('A77', 10), ('A771', 10), ('A014', 10), ('A95', 10), ('I01', 10), ('R6883', 10), ('A92', 10), ('A929', 10), ('R508', 10), ('R5081', 10), ('A750', 10), ('A932', 10), ('A484', 10), ('A922', 10), ('A931', 10), ('A259', 10), ('A388', 10), ('A78', 10)]\n"
     ]
    }
   ],
   "source": [
    "febre_matches = file3[file3['long_title'].str.contains('fever', case=False)]\n",
    "unique_icd_codes = febre_matches[['icd_code','icd_version']].drop_duplicates()\n",
    "lista_febre = list(unique_icd_codes.itertuples(index=False, name=None))\n",
    "print(lista_febre)"
   ]
  },
  {
   "cell_type": "code",
   "execution_count": 173,
   "metadata": {},
   "outputs": [
    {
     "name": "stdout",
     "output_type": "stream",
     "text": [
      "[('40519', 9), ('64203', 9), ('45931', 9), ('64273', 9), ('99791', 9), ('45933', 9), ('64204', 9), ('64234', 9), ('40511', 9), ('64270', 9), ('64271', 9), ('64274', 9), ('64232', 9), ('64291', 9), ('64294', 9), ('64612', 9), ('4160', 9), ('4010', 9), ('40591', 9), ('5723', 9), ('V811', 9), ('64233', 9), ('45939', 9), ('3482', 9), ('64621', 9), ('64231', 9), ('64624', 9), ('4019', 9), ('64211', 9), ('64290', 9), ('64620', 9), ('64202', 9), ('64214', 9), ('64272', 9), ('64210', 9), ('64220', 9), ('36504', 9), ('64223', 9), ('64293', 9), ('64221', 9), ('7962', 9), ('64224', 9), ('64623', 9), ('64212', 9), ('64613', 9), ('64292', 9), ('45932', 9), ('64200', 9), ('64222', 9), ('40509', 9), ('64622', 9), ('4011', 9), ('64611', 9), ('64213', 9), ('40501', 9), ('40599', 9), ('64201', 9), ('64614', 9), ('45930', 9), ('64230', 9), ('64610', 9), ('O1042', 10), ('O119', 10), ('I270', 10), ('I87323', 10), ('O10411', 10), ('I2729', 10), ('O135', 10), ('O139', 10), ('O163', 10), ('H4005', 10), ('I87312', 10), ('O132', 10), ('O161', 10), ('I87329', 10), ('I87303', 10), ('O162', 10), ('R030', 10), ('I2721', 10), ('I2722', 10), ('I87391', 10), ('O169', 10), ('P292', 10), ('H40052', 10), ('H40059', 10), ('O10413', 10), ('K766', 10), ('I87319', 10), ('O10412', 10), ('I87309', 10), ('I87331', 10), ('O133', 10), ('I152', 10), ('I87311', 10), ('I87333', 10), ('O10419', 10), ('O112', 10), ('I2724', 10), ('O10012', 10), ('O104', 10), ('I87322', 10), ('O1093', 10), ('I87302', 10), ('H40051', 10), ('O10013', 10), ('O1003', 10), ('I8733', 10), ('O1001', 10), ('O164', 10), ('I2720', 10), ('O10011', 10), ('O113', 10), ('O1002', 10), ('O11', 10), ('I87392', 10), ('I87393', 10), ('O115', 10), ('I2723', 10), ('I8731', 10), ('O13', 10), ('I8732', 10), ('I87339', 10), ('I10', 10), ('I873', 10), ('O1091', 10), ('O10', 10), ('O12', 10), ('P2930', 10), ('O1041', 10), ('I87301', 10), ('O1043', 10), ('O134', 10), ('I8730', 10), ('O10913', 10), ('O114', 10), ('H40053', 10), ('I8739', 10), ('O10919', 10), ('O10019', 10), ('I87321', 10), ('O109', 10), ('O10912', 10), ('O1092', 10), ('G932', 10), ('I87313', 10), ('O165', 10), ('I15', 10), ('O131', 10), ('O16', 10), ('I159', 10), ('I87332', 10), ('I158', 10), ('I973', 10), ('I151', 10), ('O10911', 10), ('I150', 10), ('I272', 10), ('O100', 10), ('I87399', 10), ('O111', 10)]\n"
     ]
    }
   ],
   "source": [
    "hipertensao_matches = file3[file3['long_title'].str.contains('hypertension', case=False)]\n",
    "unique_icd_codes = hipertensao_matches[['icd_code','icd_version']].drop_duplicates()\n",
    "lista_hipertensao = list(unique_icd_codes.itertuples(index=False, name=None))\n",
    "print(lista_hipertensao)"
   ]
  },
  {
   "cell_type": "code",
   "execution_count": 174,
   "metadata": {},
   "outputs": [
    {
     "name": "stdout",
     "output_type": "stream",
     "text": [
      "[('2512', 9), ('7756', 9), ('2511', 9), ('E10641', 10), ('E1164', 10), ('E161', 10), ('E11641', 10), ('E08649', 10), ('E1364', 10), ('E09641', 10), ('E11649', 10), ('E162', 10), ('E08641', 10), ('E0964', 10), ('E160', 10), ('E10649', 10), ('P703', 10), ('E1064', 10), ('P704', 10), ('E13641', 10), ('E09649', 10), ('E13649', 10), ('E0864', 10)]\n"
     ]
    }
   ],
   "source": [
    "hipoglicemia_matches = file3[file3['long_title'].str.contains('hypoglycemia', case=False)]\n",
    "unique_icd_codes = hipoglicemia_matches[['icd_code','icd_version']].drop_duplicates()\n",
    "lista_hipoglicemia = list(unique_icd_codes.itertuples(index=False, name=None))\n",
    "print(lista_hipoglicemia)"
   ]
  },
  {
   "cell_type": "code",
   "execution_count": 175,
   "metadata": {},
   "outputs": [
    {
     "name": "stdout",
     "output_type": "stream",
     "text": [
      "[('9916', 9), ('7783', 9), ('78065', 9), ('T8851XS', 10), ('T68XXXS', 10), ('P809', 10), ('T68XXXD', 10), ('T68', 10), ('T8851XA', 10), ('R680', 10), ('P80', 10), ('P808', 10), ('T68XXXA', 10), ('T8851XD', 10), ('T8851', 10)]\n"
     ]
    }
   ],
   "source": [
    "hipotermia_matches = file3[file3['long_title'].str.contains('hypothermia', case=False)]\n",
    "unique_icd_codes = hipotermia_matches[['icd_code','icd_version']].drop_duplicates()\n",
    "lista_hipotermia = list(unique_icd_codes.itertuples(index=False, name=None))\n",
    "print(lista_hipotermia)"
   ]
  },
  {
   "cell_type": "code",
   "execution_count": 176,
   "metadata": {},
   "outputs": [
    {
     "name": "stdout",
     "output_type": "stream",
     "text": [
      "[('78097', 9), ('R4182', 10)]\n"
     ]
    }
   ],
   "source": [
    "confusao_matches = file3[file3['long_title'].str.contains('altered mental status', case=False)]\n",
    "unique_icd_codes = confusao_matches[['icd_code','icd_version']].drop_duplicates()\n",
    "lista_confusao = list(unique_icd_codes.itertuples(index=False, name=None))\n",
    "print(lista_confusao)"
   ]
  },
  {
   "cell_type": "code",
   "execution_count": 177,
   "metadata": {},
   "outputs": [
    {
     "name": "stdout",
     "output_type": "stream",
     "text": [
      "[('78064', 9), ('R6883', 10)]\n"
     ]
    }
   ],
   "source": [
    "calafrios_matches = file3[file3['long_title'].str.contains('chills', case=False)]\n",
    "unique_icd_codes = calafrios_matches[['icd_code','icd_version']].drop_duplicates()\n",
    "lista_calafrios = list(unique_icd_codes.itertuples(index=False, name=None))\n",
    "print(lista_calafrios)"
   ]
  },
  {
   "cell_type": "markdown",
   "metadata": {},
   "source": [
    "agora criando colunas no file2 para cada paciente que representa o sintoma"
   ]
  },
  {
   "cell_type": "code",
   "execution_count": 178,
   "metadata": {},
   "outputs": [
    {
     "name": "stdout",
     "output_type": "stream",
     "text": [
      "   subject_id                                           icd_code  \\\n",
      "0    10000032  [2761, V08, 2875, 3051, 5715, 496, 07071, 7895...   \n",
      "1    10001217  [V168, V161, 04109, 3485, 4019, 3484, 3240, 34...   \n",
      "2    10001725  [49390, 7291, 6185, 56400, 5641, E9352, 6186, ...   \n",
      "3    10002428  [4019, 29281, 4240, 00845, 1122, 7102, 73300, ...   \n",
      "4    10002495  [R310, N179, Z7901, Z86718, I214, A047, Z23, K...   \n",
      "\n",
      "                                         icd_version  sepse  calafrios  \\\n",
      "0  [9, 9, 9, 9, 9, 9, 9, 9, 9, 9, 9, 9, 9, 9, 9, ...      0          0   \n",
      "1  [9, 9, 9, 9, 9, 9, 9, 9, 9, 9, 9, 9, 9, 9, 9, ...      0          0   \n",
      "2  [9, 9, 9, 9, 9, 9, 9, 9, 9, 9, 9, 9, 9, 9, 9, ...      0          0   \n",
      "3  [9, 9, 9, 9, 9, 9, 9, 9, 9, 9, 9, 9, 9, 9, 9, ...      1          0   \n",
      "4  [10, 10, 10, 10, 10, 10, 10, 10, 10, 10, 10, 1...      0          0   \n",
      "\n",
      "   confusao mental  diabetes  hipotermia  hipertensao  febre  hipoglicemia  \n",
      "0                0         0           0            1      0             0  \n",
      "1                0         0           0            1      0             0  \n",
      "2                0         0           0            0      0             0  \n",
      "3                1         0           0            1      0             0  \n",
      "4                0         1           0            1      0             0  \n"
     ]
    }
   ],
   "source": [
    "# Função para verificar a presença de qualquer código ICD na lista de códigos\n",
    "def has_icd(codes, versions, icd_list):\n",
    "    for code, version in zip(codes, versions):\n",
    "        if (code.strip(), int(version)) in icd_list:\n",
    "            return True\n",
    "    return False\n",
    "\n",
    "# Criar colunas binárias para sepse e calafrios\n",
    "file2['sepse'] = file2.apply(lambda row: has_icd(row['icd_code'], row['icd_version'], lista_sepse), axis=1)\n",
    "file2['calafrios'] = file2.apply(lambda row: has_icd(row['icd_code'], row['icd_version'], lista_calafrios), axis=1)\n",
    "file2['confusao mental'] = file2.apply(lambda row: has_icd(row['icd_code'], row['icd_version'], lista_confusao), axis=1)\n",
    "file2['diabetes'] = file2.apply(lambda row: has_icd(row['icd_code'], row['icd_version'], lista_diabetes), axis=1)\n",
    "file2['hipotermia'] = file2.apply(lambda row: has_icd(row['icd_code'], row['icd_version'], lista_hipotermia), axis=1)\n",
    "file2['hipertensao'] = file2.apply(lambda row: has_icd(row['icd_code'], row['icd_version'], lista_hipertensao), axis=1)\n",
    "file2['febre'] = file2.apply(lambda row: has_icd(row['icd_code'], row['icd_version'], lista_febre), axis=1)\n",
    "file2['hipoglicemia'] = file2.apply(lambda row: has_icd(row['icd_code'], row['icd_version'], lista_hipoglicemia), axis=1)\n",
    "\n",
    "# Convertendo os valores booleanos para inteiros (0 ou 1)\n",
    "file2['sepse'] = file2['sepse'].astype(int)\n",
    "file2['calafrios'] = file2['calafrios'].astype(int)\n",
    "file2['confusao mental'] = file2['confusao mental'].astype(int)\n",
    "file2['diabetes'] = file2['diabetes'].astype(int)\n",
    "file2['hipotermia'] = file2['hipotermia'].astype(int)\n",
    "file2['hipertensao'] = file2['hipertensao'].astype(int)\n",
    "file2['febre'] = file2['febre'].astype(int)\n",
    "file2['hipoglicemia'] = file2['hipoglicemia'].astype(int)\n",
    "\n",
    "# Exibindo as primeiras linhas do DataFrame atualizado para verificação\n",
    "print(file2.head())"
   ]
  },
  {
   "cell_type": "code",
   "execution_count": 179,
   "metadata": {},
   "outputs": [
    {
     "data": {
      "text/html": [
       "<div>\n",
       "<style scoped>\n",
       "    .dataframe tbody tr th:only-of-type {\n",
       "        vertical-align: middle;\n",
       "    }\n",
       "\n",
       "    .dataframe tbody tr th {\n",
       "        vertical-align: top;\n",
       "    }\n",
       "\n",
       "    .dataframe thead th {\n",
       "        text-align: right;\n",
       "    }\n",
       "</style>\n",
       "<table border=\"1\" class=\"dataframe\">\n",
       "  <thead>\n",
       "    <tr style=\"text-align: right;\">\n",
       "      <th></th>\n",
       "      <th>subject_id</th>\n",
       "      <th>sepse</th>\n",
       "      <th>calafrios</th>\n",
       "      <th>confusao mental</th>\n",
       "      <th>diabetes</th>\n",
       "      <th>hipotermia</th>\n",
       "      <th>hipertensao</th>\n",
       "      <th>febre</th>\n",
       "      <th>hipoglicemia</th>\n",
       "    </tr>\n",
       "  </thead>\n",
       "  <tbody>\n",
       "    <tr>\n",
       "      <th>0</th>\n",
       "      <td>10000032</td>\n",
       "      <td>0</td>\n",
       "      <td>0</td>\n",
       "      <td>0</td>\n",
       "      <td>0</td>\n",
       "      <td>0</td>\n",
       "      <td>1</td>\n",
       "      <td>0</td>\n",
       "      <td>0</td>\n",
       "    </tr>\n",
       "    <tr>\n",
       "      <th>1</th>\n",
       "      <td>10001217</td>\n",
       "      <td>0</td>\n",
       "      <td>0</td>\n",
       "      <td>0</td>\n",
       "      <td>0</td>\n",
       "      <td>0</td>\n",
       "      <td>1</td>\n",
       "      <td>0</td>\n",
       "      <td>0</td>\n",
       "    </tr>\n",
       "    <tr>\n",
       "      <th>2</th>\n",
       "      <td>10001725</td>\n",
       "      <td>0</td>\n",
       "      <td>0</td>\n",
       "      <td>0</td>\n",
       "      <td>0</td>\n",
       "      <td>0</td>\n",
       "      <td>0</td>\n",
       "      <td>0</td>\n",
       "      <td>0</td>\n",
       "    </tr>\n",
       "    <tr>\n",
       "      <th>3</th>\n",
       "      <td>10002428</td>\n",
       "      <td>1</td>\n",
       "      <td>0</td>\n",
       "      <td>1</td>\n",
       "      <td>0</td>\n",
       "      <td>0</td>\n",
       "      <td>1</td>\n",
       "      <td>0</td>\n",
       "      <td>0</td>\n",
       "    </tr>\n",
       "    <tr>\n",
       "      <th>4</th>\n",
       "      <td>10002495</td>\n",
       "      <td>0</td>\n",
       "      <td>0</td>\n",
       "      <td>0</td>\n",
       "      <td>1</td>\n",
       "      <td>0</td>\n",
       "      <td>1</td>\n",
       "      <td>0</td>\n",
       "      <td>0</td>\n",
       "    </tr>\n",
       "  </tbody>\n",
       "</table>\n",
       "</div>"
      ],
      "text/plain": [
       "   subject_id  sepse  calafrios  confusao mental  diabetes  hipotermia  \\\n",
       "0    10000032      0          0                0         0           0   \n",
       "1    10001217      0          0                0         0           0   \n",
       "2    10001725      0          0                0         0           0   \n",
       "3    10002428      1          0                1         0           0   \n",
       "4    10002495      0          0                0         1           0   \n",
       "\n",
       "   hipertensao  febre  hipoglicemia  \n",
       "0            1      0             0  \n",
       "1            1      0             0  \n",
       "2            0      0             0  \n",
       "3            1      0             0  \n",
       "4            1      0             0  "
      ]
     },
     "execution_count": 179,
     "metadata": {},
     "output_type": "execute_result"
    }
   ],
   "source": [
    "columns = ['subject_id','sepse','calafrios','confusao mental','diabetes','hipotermia','hipertensao','febre','hipoglicemia']\n",
    "file2 = file2[columns]\n",
    "file2.head()"
   ]
  },
  {
   "cell_type": "markdown",
   "metadata": {},
   "source": [
    "realizando o merge e criando uma unica tabela"
   ]
  },
  {
   "cell_type": "code",
   "execution_count": 180,
   "metadata": {},
   "outputs": [
    {
     "name": "stdout",
     "output_type": "stream",
     "text": [
      "   subject_id            admittime  sepse  calafrios  confusao mental  \\\n",
      "0    10004235  2196-02-24 14:38:00      1          0                0   \n",
      "1    10004235  2196-06-20 21:11:00      1          0                0   \n",
      "2    10004235  2196-06-14 08:30:00      1          0                0   \n",
      "3    10009628  2153-09-17 17:08:00      0          0                0   \n",
      "4    10018081  2134-08-18 02:02:00      1          0                0   \n",
      "\n",
      "   diabetes  hipotermia  hipertensao  febre  hipoglicemia  \n",
      "0         0           0            1      1             0  \n",
      "1         0           0            1      1             0  \n",
      "2         0           0            1      1             0  \n",
      "3         1           0            0      0             0  \n",
      "4         0           0            1      0             0  \n"
     ]
    }
   ],
   "source": [
    "file1 = pd.DataFrame(file1)\n",
    "file2 = pd.DataFrame(file2)\n",
    "\n",
    "# Realizando o merge\n",
    "df = pd.merge(file1, file2, on='subject_id', how='inner')\n",
    "\n",
    "# Verificar o resultado\n",
    "print(df.head())"
   ]
  },
  {
   "cell_type": "code",
   "execution_count": 181,
   "metadata": {},
   "outputs": [
    {
     "data": {
      "text/html": [
       "<div>\n",
       "<style scoped>\n",
       "    .dataframe tbody tr th:only-of-type {\n",
       "        vertical-align: middle;\n",
       "    }\n",
       "\n",
       "    .dataframe tbody tr th {\n",
       "        vertical-align: top;\n",
       "    }\n",
       "\n",
       "    .dataframe thead th {\n",
       "        text-align: right;\n",
       "    }\n",
       "</style>\n",
       "<table border=\"1\" class=\"dataframe\">\n",
       "  <thead>\n",
       "    <tr style=\"text-align: right;\">\n",
       "      <th></th>\n",
       "      <th>subject_id</th>\n",
       "      <th>admittime</th>\n",
       "      <th>sepse</th>\n",
       "      <th>calafrios</th>\n",
       "      <th>confusao mental</th>\n",
       "      <th>diabetes</th>\n",
       "      <th>hipotermia</th>\n",
       "      <th>hipertensao</th>\n",
       "      <th>febre</th>\n",
       "      <th>hipoglicemia</th>\n",
       "    </tr>\n",
       "  </thead>\n",
       "  <tbody>\n",
       "    <tr>\n",
       "      <th>0</th>\n",
       "      <td>10004235</td>\n",
       "      <td>2196-02-24 14:38:00</td>\n",
       "      <td>1</td>\n",
       "      <td>0</td>\n",
       "      <td>0</td>\n",
       "      <td>0</td>\n",
       "      <td>0</td>\n",
       "      <td>1</td>\n",
       "      <td>1</td>\n",
       "      <td>0</td>\n",
       "    </tr>\n",
       "    <tr>\n",
       "      <th>1</th>\n",
       "      <td>10004235</td>\n",
       "      <td>2196-06-20 21:11:00</td>\n",
       "      <td>1</td>\n",
       "      <td>0</td>\n",
       "      <td>0</td>\n",
       "      <td>0</td>\n",
       "      <td>0</td>\n",
       "      <td>1</td>\n",
       "      <td>1</td>\n",
       "      <td>0</td>\n",
       "    </tr>\n",
       "    <tr>\n",
       "      <th>2</th>\n",
       "      <td>10004235</td>\n",
       "      <td>2196-06-14 08:30:00</td>\n",
       "      <td>1</td>\n",
       "      <td>0</td>\n",
       "      <td>0</td>\n",
       "      <td>0</td>\n",
       "      <td>0</td>\n",
       "      <td>1</td>\n",
       "      <td>1</td>\n",
       "      <td>0</td>\n",
       "    </tr>\n",
       "    <tr>\n",
       "      <th>3</th>\n",
       "      <td>10009628</td>\n",
       "      <td>2153-09-17 17:08:00</td>\n",
       "      <td>0</td>\n",
       "      <td>0</td>\n",
       "      <td>0</td>\n",
       "      <td>1</td>\n",
       "      <td>0</td>\n",
       "      <td>0</td>\n",
       "      <td>0</td>\n",
       "      <td>0</td>\n",
       "    </tr>\n",
       "    <tr>\n",
       "      <th>4</th>\n",
       "      <td>10018081</td>\n",
       "      <td>2134-08-18 02:02:00</td>\n",
       "      <td>1</td>\n",
       "      <td>0</td>\n",
       "      <td>0</td>\n",
       "      <td>0</td>\n",
       "      <td>0</td>\n",
       "      <td>1</td>\n",
       "      <td>0</td>\n",
       "      <td>0</td>\n",
       "    </tr>\n",
       "  </tbody>\n",
       "</table>\n",
       "</div>"
      ],
      "text/plain": [
       "   subject_id            admittime  sepse  calafrios  confusao mental  \\\n",
       "0    10004235  2196-02-24 14:38:00      1          0                0   \n",
       "1    10004235  2196-06-20 21:11:00      1          0                0   \n",
       "2    10004235  2196-06-14 08:30:00      1          0                0   \n",
       "3    10009628  2153-09-17 17:08:00      0          0                0   \n",
       "4    10018081  2134-08-18 02:02:00      1          0                0   \n",
       "\n",
       "   diabetes  hipotermia  hipertensao  febre  hipoglicemia  \n",
       "0         0           0            1      1             0  \n",
       "1         0           0            1      1             0  \n",
       "2         0           0            1      1             0  \n",
       "3         1           0            0      0             0  \n",
       "4         0           0            1      0             0  "
      ]
     },
     "execution_count": 181,
     "metadata": {},
     "output_type": "execute_result"
    }
   ],
   "source": [
    "colums = ['subject_id','admittime','sepse','calafrios','confusao mental','diabetes','hipotermia','hipertensao','febre','hipoglicemia']\n",
    "df = df[colums]\n",
    "df.head()"
   ]
  },
  {
   "cell_type": "code",
   "execution_count": 182,
   "metadata": {},
   "outputs": [
    {
     "name": "stdout",
     "output_type": "stream",
     "text": [
      "Número de casos de sepse: 75\n"
     ]
    }
   ],
   "source": [
    "# Supondo que seu DataFrame se chama df\n",
    "count_sepsis = df['sepse'].sum()\n",
    "print(\"Número de casos de sepse:\", count_sepsis)"
   ]
  },
  {
   "cell_type": "code",
   "execution_count": 183,
   "metadata": {},
   "outputs": [
    {
     "name": "stdout",
     "output_type": "stream",
     "text": [
      "Defaulting to user installation because normal site-packages is not writeableNote: you may need to restart the kernel to use updated packages.\n"
     ]
    },
    {
     "name": "stderr",
     "output_type": "stream",
     "text": [
      "WARNING: Ignoring invalid distribution -illow (c:\\users\\beatr\\appdata\\roaming\\python\\python310\\site-packages)\n",
      "WARNING: Ignoring invalid distribution -illow (c:\\users\\beatr\\appdata\\roaming\\python\\python310\\site-packages)\n",
      "WARNING: Ignoring invalid distribution -illow (c:\\users\\beatr\\appdata\\roaming\\python\\python310\\site-packages)\n",
      "WARNING: Ignoring invalid distribution -illow (c:\\users\\beatr\\appdata\\roaming\\python\\python310\\site-packages)\n",
      "\n",
      "[notice] A new release of pip is available: 23.3.1 -> 24.0\n",
      "[notice] To update, run: python.exe -m pip install --upgrade pip\n"
     ]
    },
    {
     "name": "stdout",
     "output_type": "stream",
     "text": [
      "\n",
      "Requirement already satisfied: tensorflow in c:\\users\\beatr\\appdata\\roaming\\python\\python310\\site-packages (2.16.1)\n",
      "Requirement already satisfied: tensorflow-intel==2.16.1 in c:\\users\\beatr\\appdata\\roaming\\python\\python310\\site-packages (from tensorflow) (2.16.1)\n",
      "Requirement already satisfied: absl-py>=1.0.0 in c:\\users\\beatr\\appdata\\roaming\\python\\python310\\site-packages (from tensorflow-intel==2.16.1->tensorflow) (2.1.0)\n",
      "Requirement already satisfied: astunparse>=1.6.0 in c:\\users\\beatr\\appdata\\roaming\\python\\python310\\site-packages (from tensorflow-intel==2.16.1->tensorflow) (1.6.3)\n",
      "Requirement already satisfied: flatbuffers>=23.5.26 in c:\\users\\beatr\\appdata\\roaming\\python\\python310\\site-packages (from tensorflow-intel==2.16.1->tensorflow) (24.3.25)\n",
      "Requirement already satisfied: gast!=0.5.0,!=0.5.1,!=0.5.2,>=0.2.1 in c:\\users\\beatr\\appdata\\roaming\\python\\python310\\site-packages (from tensorflow-intel==2.16.1->tensorflow) (0.5.4)\n",
      "Requirement already satisfied: google-pasta>=0.1.1 in c:\\users\\beatr\\appdata\\roaming\\python\\python310\\site-packages (from tensorflow-intel==2.16.1->tensorflow) (0.2.0)\n",
      "Requirement already satisfied: h5py>=3.10.0 in c:\\users\\beatr\\appdata\\roaming\\python\\python310\\site-packages (from tensorflow-intel==2.16.1->tensorflow) (3.11.0)\n",
      "Requirement already satisfied: libclang>=13.0.0 in c:\\users\\beatr\\appdata\\roaming\\python\\python310\\site-packages (from tensorflow-intel==2.16.1->tensorflow) (18.1.1)\n",
      "Requirement already satisfied: ml-dtypes~=0.3.1 in c:\\users\\beatr\\appdata\\roaming\\python\\python310\\site-packages (from tensorflow-intel==2.16.1->tensorflow) (0.3.2)\n",
      "Requirement already satisfied: opt-einsum>=2.3.2 in c:\\users\\beatr\\appdata\\roaming\\python\\python310\\site-packages (from tensorflow-intel==2.16.1->tensorflow) (3.3.0)\n",
      "Requirement already satisfied: packaging in c:\\users\\beatr\\appdata\\roaming\\python\\python310\\site-packages (from tensorflow-intel==2.16.1->tensorflow) (23.0)\n",
      "Requirement already satisfied: protobuf!=4.21.0,!=4.21.1,!=4.21.2,!=4.21.3,!=4.21.4,!=4.21.5,<5.0.0dev,>=3.20.3 in c:\\users\\beatr\\appdata\\roaming\\python\\python310\\site-packages (from tensorflow-intel==2.16.1->tensorflow) (4.21.12)\n",
      "Requirement already satisfied: requests<3,>=2.21.0 in c:\\users\\beatr\\appdata\\roaming\\python\\python310\\site-packages (from tensorflow-intel==2.16.1->tensorflow) (2.28.2)\n",
      "Requirement already satisfied: setuptools in c:\\program files\\python310\\lib\\site-packages (from tensorflow-intel==2.16.1->tensorflow) (58.1.0)\n",
      "Requirement already satisfied: six>=1.12.0 in c:\\users\\beatr\\appdata\\roaming\\python\\python310\\site-packages (from tensorflow-intel==2.16.1->tensorflow) (1.16.0)\n",
      "Requirement already satisfied: termcolor>=1.1.0 in c:\\users\\beatr\\appdata\\roaming\\python\\python310\\site-packages (from tensorflow-intel==2.16.1->tensorflow) (2.4.0)\n",
      "Requirement already satisfied: typing-extensions>=3.6.6 in c:\\users\\beatr\\appdata\\roaming\\python\\python310\\site-packages (from tensorflow-intel==2.16.1->tensorflow) (4.4.0)\n",
      "Requirement already satisfied: wrapt>=1.11.0 in c:\\users\\beatr\\appdata\\roaming\\python\\python310\\site-packages (from tensorflow-intel==2.16.1->tensorflow) (1.14.1)\n",
      "Requirement already satisfied: grpcio<2.0,>=1.24.3 in c:\\users\\beatr\\appdata\\roaming\\python\\python310\\site-packages (from tensorflow-intel==2.16.1->tensorflow) (1.64.1)\n",
      "Requirement already satisfied: tensorboard<2.17,>=2.16 in c:\\users\\beatr\\appdata\\roaming\\python\\python310\\site-packages (from tensorflow-intel==2.16.1->tensorflow) (2.16.2)\n",
      "Requirement already satisfied: keras>=3.0.0 in c:\\users\\beatr\\appdata\\roaming\\python\\python310\\site-packages (from tensorflow-intel==2.16.1->tensorflow) (3.3.3)\n",
      "Requirement already satisfied: tensorflow-io-gcs-filesystem>=0.23.1 in c:\\users\\beatr\\appdata\\roaming\\python\\python310\\site-packages (from tensorflow-intel==2.16.1->tensorflow) (0.31.0)\n",
      "Requirement already satisfied: numpy<2.0.0,>=1.23.5 in c:\\users\\beatr\\appdata\\roaming\\python\\python310\\site-packages (from tensorflow-intel==2.16.1->tensorflow) (1.24.2)\n",
      "Requirement already satisfied: wheel<1.0,>=0.23.0 in c:\\users\\beatr\\appdata\\roaming\\python\\python310\\site-packages (from astunparse>=1.6.0->tensorflow-intel==2.16.1->tensorflow) (0.43.0)\n",
      "Requirement already satisfied: rich in c:\\users\\beatr\\appdata\\roaming\\python\\python310\\site-packages (from keras>=3.0.0->tensorflow-intel==2.16.1->tensorflow) (13.7.1)\n",
      "Requirement already satisfied: namex in c:\\users\\beatr\\appdata\\roaming\\python\\python310\\site-packages (from keras>=3.0.0->tensorflow-intel==2.16.1->tensorflow) (0.0.8)\n",
      "Requirement already satisfied: optree in c:\\users\\beatr\\appdata\\roaming\\python\\python310\\site-packages (from keras>=3.0.0->tensorflow-intel==2.16.1->tensorflow) (0.11.0)\n",
      "Requirement already satisfied: charset-normalizer<4,>=2 in c:\\users\\beatr\\appdata\\roaming\\python\\python310\\site-packages (from requests<3,>=2.21.0->tensorflow-intel==2.16.1->tensorflow) (3.1.0)\n",
      "Requirement already satisfied: idna<4,>=2.5 in c:\\users\\beatr\\appdata\\roaming\\python\\python310\\site-packages (from requests<3,>=2.21.0->tensorflow-intel==2.16.1->tensorflow) (3.4)\n",
      "Requirement already satisfied: urllib3<1.27,>=1.21.1 in c:\\users\\beatr\\appdata\\roaming\\python\\python310\\site-packages (from requests<3,>=2.21.0->tensorflow-intel==2.16.1->tensorflow) (1.26.14)\n",
      "Requirement already satisfied: certifi>=2017.4.17 in c:\\users\\beatr\\appdata\\roaming\\python\\python310\\site-packages (from requests<3,>=2.21.0->tensorflow-intel==2.16.1->tensorflow) (2022.12.7)\n",
      "Requirement already satisfied: markdown>=2.6.8 in c:\\users\\beatr\\appdata\\roaming\\python\\python310\\site-packages (from tensorboard<2.17,>=2.16->tensorflow-intel==2.16.1->tensorflow) (3.6)\n",
      "Requirement already satisfied: tensorboard-data-server<0.8.0,>=0.7.0 in c:\\users\\beatr\\appdata\\roaming\\python\\python310\\site-packages (from tensorboard<2.17,>=2.16->tensorflow-intel==2.16.1->tensorflow) (0.7.2)\n",
      "Requirement already satisfied: werkzeug>=1.0.1 in c:\\users\\beatr\\appdata\\roaming\\python\\python310\\site-packages (from tensorboard<2.17,>=2.16->tensorflow-intel==2.16.1->tensorflow) (3.0.3)\n",
      "Requirement already satisfied: MarkupSafe>=2.1.1 in c:\\users\\beatr\\appdata\\roaming\\python\\python310\\site-packages (from werkzeug>=1.0.1->tensorboard<2.17,>=2.16->tensorflow-intel==2.16.1->tensorflow) (2.1.2)\n",
      "Requirement already satisfied: markdown-it-py>=2.2.0 in c:\\users\\beatr\\appdata\\roaming\\python\\python310\\site-packages (from rich->keras>=3.0.0->tensorflow-intel==2.16.1->tensorflow) (3.0.0)\n",
      "Requirement already satisfied: pygments<3.0.0,>=2.13.0 in c:\\users\\beatr\\appdata\\roaming\\python\\python310\\site-packages (from rich->keras>=3.0.0->tensorflow-intel==2.16.1->tensorflow) (2.14.0)\n",
      "Requirement already satisfied: mdurl~=0.1 in c:\\users\\beatr\\appdata\\roaming\\python\\python310\\site-packages (from markdown-it-py>=2.2.0->rich->keras>=3.0.0->tensorflow-intel==2.16.1->tensorflow) (0.1.2)\n"
     ]
    }
   ],
   "source": [
    "%pip install tensorflow"
   ]
  },
  {
   "cell_type": "code",
   "execution_count": 184,
   "metadata": {},
   "outputs": [
    {
     "data": {
      "text/html": [
       "<div>\n",
       "<style scoped>\n",
       "    .dataframe tbody tr th:only-of-type {\n",
       "        vertical-align: middle;\n",
       "    }\n",
       "\n",
       "    .dataframe tbody tr th {\n",
       "        vertical-align: top;\n",
       "    }\n",
       "\n",
       "    .dataframe thead th {\n",
       "        text-align: right;\n",
       "    }\n",
       "</style>\n",
       "<table border=\"1\" class=\"dataframe\">\n",
       "  <thead>\n",
       "    <tr style=\"text-align: right;\">\n",
       "      <th></th>\n",
       "      <th>subject_id</th>\n",
       "      <th>sepse</th>\n",
       "      <th>calafrios</th>\n",
       "      <th>confusao mental</th>\n",
       "      <th>diabetes</th>\n",
       "      <th>hipotermia</th>\n",
       "      <th>hipertensao</th>\n",
       "      <th>febre</th>\n",
       "      <th>hipoglicemia</th>\n",
       "    </tr>\n",
       "    <tr>\n",
       "      <th>admittime</th>\n",
       "      <th></th>\n",
       "      <th></th>\n",
       "      <th></th>\n",
       "      <th></th>\n",
       "      <th></th>\n",
       "      <th></th>\n",
       "      <th></th>\n",
       "      <th></th>\n",
       "      <th></th>\n",
       "    </tr>\n",
       "  </thead>\n",
       "  <tbody>\n",
       "    <tr>\n",
       "      <th>2196-02-24 14:38:00</th>\n",
       "      <td>10004235</td>\n",
       "      <td>1</td>\n",
       "      <td>0</td>\n",
       "      <td>0</td>\n",
       "      <td>0</td>\n",
       "      <td>0</td>\n",
       "      <td>1</td>\n",
       "      <td>1</td>\n",
       "      <td>0</td>\n",
       "    </tr>\n",
       "    <tr>\n",
       "      <th>2196-06-20 21:11:00</th>\n",
       "      <td>10004235</td>\n",
       "      <td>1</td>\n",
       "      <td>0</td>\n",
       "      <td>0</td>\n",
       "      <td>0</td>\n",
       "      <td>0</td>\n",
       "      <td>1</td>\n",
       "      <td>1</td>\n",
       "      <td>0</td>\n",
       "    </tr>\n",
       "    <tr>\n",
       "      <th>2196-06-14 08:30:00</th>\n",
       "      <td>10004235</td>\n",
       "      <td>1</td>\n",
       "      <td>0</td>\n",
       "      <td>0</td>\n",
       "      <td>0</td>\n",
       "      <td>0</td>\n",
       "      <td>1</td>\n",
       "      <td>1</td>\n",
       "      <td>0</td>\n",
       "    </tr>\n",
       "    <tr>\n",
       "      <th>2153-09-17 17:08:00</th>\n",
       "      <td>10009628</td>\n",
       "      <td>0</td>\n",
       "      <td>0</td>\n",
       "      <td>0</td>\n",
       "      <td>1</td>\n",
       "      <td>0</td>\n",
       "      <td>0</td>\n",
       "      <td>0</td>\n",
       "      <td>0</td>\n",
       "    </tr>\n",
       "    <tr>\n",
       "      <th>2134-08-18 02:02:00</th>\n",
       "      <td>10018081</td>\n",
       "      <td>1</td>\n",
       "      <td>0</td>\n",
       "      <td>0</td>\n",
       "      <td>0</td>\n",
       "      <td>0</td>\n",
       "      <td>1</td>\n",
       "      <td>0</td>\n",
       "      <td>0</td>\n",
       "    </tr>\n",
       "  </tbody>\n",
       "</table>\n",
       "</div>"
      ],
      "text/plain": [
       "                     subject_id  sepse  calafrios  confusao mental  diabetes  \\\n",
       "admittime                                                                      \n",
       "2196-02-24 14:38:00    10004235      1          0                0         0   \n",
       "2196-06-20 21:11:00    10004235      1          0                0         0   \n",
       "2196-06-14 08:30:00    10004235      1          0                0         0   \n",
       "2153-09-17 17:08:00    10009628      0          0                0         1   \n",
       "2134-08-18 02:02:00    10018081      1          0                0         0   \n",
       "\n",
       "                     hipotermia  hipertensao  febre  hipoglicemia  \n",
       "admittime                                                          \n",
       "2196-02-24 14:38:00           0            1      1             0  \n",
       "2196-06-20 21:11:00           0            1      1             0  \n",
       "2196-06-14 08:30:00           0            1      1             0  \n",
       "2153-09-17 17:08:00           0            0      0             0  \n",
       "2134-08-18 02:02:00           0            1      0             0  "
      ]
     },
     "execution_count": 184,
     "metadata": {},
     "output_type": "execute_result"
    }
   ],
   "source": [
    "df['admittime'] = pd.to_datetime(df['admittime'])\n",
    "df.index = df['admittime']\n",
    "df.drop(columns=['admittime'], inplace=True)\n",
    "df.head()\n"
   ]
  },
  {
   "cell_type": "code",
   "execution_count": 185,
   "metadata": {},
   "outputs": [
    {
     "name": "stdout",
     "output_type": "stream",
     "text": [
      "subject_id         int64\n",
      "sepse              int32\n",
      "calafrios          int32\n",
      "confusao mental    int32\n",
      "diabetes           int32\n",
      "hipotermia         int32\n",
      "hipertensao        int32\n",
      "febre              int32\n",
      "hipoglicemia       int32\n",
      "dtype: object\n"
     ]
    }
   ],
   "source": [
    "print(df.dtypes)"
   ]
  },
  {
   "cell_type": "code",
   "execution_count": 192,
   "metadata": {},
   "outputs": [
    {
     "name": "stderr",
     "output_type": "stream",
     "text": [
      "C:\\Users\\beatr\\AppData\\Roaming\\Python\\Python310\\site-packages\\sklearn\\utils\\validation.py:767: FutureWarning: is_sparse is deprecated and will be removed in a future version. Check `isinstance(dtype, pd.SparseDtype)` instead.\n",
      "  if not hasattr(array, \"sparse\") and array.dtypes.apply(is_sparse).any():\n",
      "C:\\Users\\beatr\\AppData\\Roaming\\Python\\Python310\\site-packages\\sklearn\\utils\\validation.py:605: FutureWarning: is_sparse is deprecated and will be removed in a future version. Check `isinstance(dtype, pd.SparseDtype)` instead.\n",
      "  if is_sparse(pd_dtype):\n",
      "C:\\Users\\beatr\\AppData\\Roaming\\Python\\Python310\\site-packages\\sklearn\\utils\\validation.py:614: FutureWarning: is_sparse is deprecated and will be removed in a future version. Check `isinstance(dtype, pd.SparseDtype)` instead.\n",
      "  if is_sparse(pd_dtype) or not is_extension_array_dtype(pd_dtype):\n",
      "C:\\Users\\beatr\\AppData\\Roaming\\Python\\Python310\\site-packages\\sklearn\\utils\\validation.py:767: FutureWarning: is_sparse is deprecated and will be removed in a future version. Check `isinstance(dtype, pd.SparseDtype)` instead.\n",
      "  if not hasattr(array, \"sparse\") and array.dtypes.apply(is_sparse).any():\n",
      "C:\\Users\\beatr\\AppData\\Roaming\\Python\\Python310\\site-packages\\sklearn\\utils\\validation.py:605: FutureWarning: is_sparse is deprecated and will be removed in a future version. Check `isinstance(dtype, pd.SparseDtype)` instead.\n",
      "  if is_sparse(pd_dtype):\n",
      "C:\\Users\\beatr\\AppData\\Roaming\\Python\\Python310\\site-packages\\sklearn\\utils\\validation.py:614: FutureWarning: is_sparse is deprecated and will be removed in a future version. Check `isinstance(dtype, pd.SparseDtype)` instead.\n",
      "  if is_sparse(pd_dtype) or not is_extension_array_dtype(pd_dtype):\n"
     ]
    }
   ],
   "source": [
    "from sklearn.preprocessing import MinMaxScaler\n",
    "from sklearn.metrics import classification_report\n",
    "from imblearn.over_sampling import SMOTE\n",
    "from tensorflow.keras.models import Sequential\n",
    "from tensorflow.keras.layers import LSTM, Dense, Dropout, BatchNormalization\n",
    "from tensorflow.keras.callbacks import EarlyStopping\n",
    "from sklearn.utils.class_weight import compute_class_weight\n",
    "\n",
    "# Normalização dos dados\n",
    "scaler = MinMaxScaler()\n",
    "scaled_data = scaler.fit_transform(df.drop(columns=['subject_id']))\n"
   ]
  },
  {
   "cell_type": "code",
   "execution_count": 193,
   "metadata": {},
   "outputs": [
    {
     "name": "stdout",
     "output_type": "stream",
     "text": [
      "Train X shape: (212, 10, 8)\n",
      "Train Y shape: (212,)\n",
      "Test X shape: (53, 10, 8)\n",
      "Test Y shape: (53,)\n"
     ]
    }
   ],
   "source": [
    "# Definição do comprimento da sequência e número de recursos\n",
    "sequence_length = 10\n",
    "num_features = scaled_data.shape[1]\n",
    "\n",
    "# Criação de sequências e rótulos correspondentes\n",
    "sequences = []\n",
    "labels = []\n",
    "for i in range(len(scaled_data) - sequence_length):\n",
    "    seq = scaled_data[i:i+sequence_length]\n",
    "    label = scaled_data[i+sequence_length-1][0]  # 'sepse' column index (0)\n",
    "    sequences.append(seq)\n",
    "    labels.append(label)\n",
    "\n",
    "# Conversão para arrays numpy\n",
    "sequences = np.array(sequences)\n",
    "labels = np.array(labels)\n",
    "\n",
    "smote = SMOTE()\n",
    "sequences_reshaped = sequences.reshape((sequences.shape[0], -1))\n",
    "sequences_balanced, labels_balanced = smote.fit_resample(sequences_reshaped, labels)\n",
    "sequences_balanced = sequences_balanced.reshape((sequences_balanced.shape[0], sequence_length, num_features))\n",
    "\n",
    "# Divisão em conjuntos de treinamento e teste\n",
    "train_size = int(0.8 * len(sequences))\n",
    "train_x, test_x = sequences[:train_size], sequences[train_size:]\n",
    "train_y, test_y = labels[:train_size], labels[train_size:]\n",
    "\n",
    "print(\"Train X shape:\", train_x.shape)\n",
    "print(\"Train Y shape:\", train_y.shape)\n",
    "print(\"Test X shape:\", test_x.shape)\n",
    "print(\"Test Y shape:\", test_y.shape)"
   ]
  },
  {
   "cell_type": "code",
   "execution_count": 194,
   "metadata": {},
   "outputs": [
    {
     "name": "stderr",
     "output_type": "stream",
     "text": [
      "C:\\Users\\beatr\\AppData\\Roaming\\Python\\Python310\\site-packages\\keras\\src\\layers\\rnn\\rnn.py:204: UserWarning: Do not pass an `input_shape`/`input_dim` argument to a layer. When using Sequential models, prefer using an `Input(shape)` object as the first layer in the model instead.\n",
      "  super().__init__(**kwargs)\n"
     ]
    },
    {
     "name": "stdout",
     "output_type": "stream",
     "text": [
      "Epoch 1/100\n",
      "\u001b[1m3/3\u001b[0m \u001b[32m━━━━━━━━━━━━━━━━━━━━\u001b[0m\u001b[37m\u001b[0m \u001b[1m5s\u001b[0m 247ms/step - accuracy: 0.4928 - loss: 0.9400 - val_accuracy: 0.0465 - val_loss: 0.7037\n",
      "Epoch 2/100\n",
      "\u001b[1m3/3\u001b[0m \u001b[32m━━━━━━━━━━━━━━━━━━━━\u001b[0m\u001b[37m\u001b[0m \u001b[1m0s\u001b[0m 33ms/step - accuracy: 0.7429 - loss: 0.5392 - val_accuracy: 0.0465 - val_loss: 0.7147\n",
      "Epoch 3/100\n",
      "\u001b[1m3/3\u001b[0m \u001b[32m━━━━━━━━━━━━━━━━━━━━\u001b[0m\u001b[37m\u001b[0m \u001b[1m0s\u001b[0m 25ms/step - accuracy: 0.7645 - loss: 0.4441 - val_accuracy: 0.0465 - val_loss: 0.7149\n",
      "Epoch 4/100\n",
      "\u001b[1m3/3\u001b[0m \u001b[32m━━━━━━━━━━━━━━━━━━━━\u001b[0m\u001b[37m\u001b[0m \u001b[1m0s\u001b[0m 25ms/step - accuracy: 0.8489 - loss: 0.3401 - val_accuracy: 0.0465 - val_loss: 0.7184\n",
      "Epoch 5/100\n",
      "\u001b[1m3/3\u001b[0m \u001b[32m━━━━━━━━━━━━━━━━━━━━\u001b[0m\u001b[37m\u001b[0m \u001b[1m0s\u001b[0m 25ms/step - accuracy: 0.8410 - loss: 0.3397 - val_accuracy: 0.0465 - val_loss: 0.7174\n",
      "Epoch 6/100\n",
      "\u001b[1m3/3\u001b[0m \u001b[32m━━━━━━━━━━━━━━━━━━━━\u001b[0m\u001b[37m\u001b[0m \u001b[1m0s\u001b[0m 25ms/step - accuracy: 0.8734 - loss: 0.3038 - val_accuracy: 0.0930 - val_loss: 0.7165\n",
      "Epoch 7/100\n",
      "\u001b[1m3/3\u001b[0m \u001b[32m━━━━━━━━━━━━━━━━━━━━\u001b[0m\u001b[37m\u001b[0m \u001b[1m0s\u001b[0m 25ms/step - accuracy: 0.8842 - loss: 0.3257 - val_accuracy: 0.3256 - val_loss: 0.7079\n",
      "Epoch 8/100\n",
      "\u001b[1m3/3\u001b[0m \u001b[32m━━━━━━━━━━━━━━━━━━━━\u001b[0m\u001b[37m\u001b[0m \u001b[1m0s\u001b[0m 26ms/step - accuracy: 0.8421 - loss: 0.2862 - val_accuracy: 0.5116 - val_loss: 0.6947\n",
      "Epoch 9/100\n",
      "\u001b[1m3/3\u001b[0m \u001b[32m━━━━━━━━━━━━━━━━━━━━\u001b[0m\u001b[37m\u001b[0m \u001b[1m0s\u001b[0m 25ms/step - accuracy: 0.8891 - loss: 0.2490 - val_accuracy: 0.6744 - val_loss: 0.6858\n",
      "Epoch 10/100\n",
      "\u001b[1m3/3\u001b[0m \u001b[32m━━━━━━━━━━━━━━━━━━━━\u001b[0m\u001b[37m\u001b[0m \u001b[1m0s\u001b[0m 26ms/step - accuracy: 0.9214 - loss: 0.2109 - val_accuracy: 0.6977 - val_loss: 0.6803\n",
      "Epoch 11/100\n",
      "\u001b[1m3/3\u001b[0m \u001b[32m━━━━━━━━━━━━━━━━━━━━\u001b[0m\u001b[37m\u001b[0m \u001b[1m0s\u001b[0m 30ms/step - accuracy: 0.8842 - loss: 0.2438 - val_accuracy: 0.7209 - val_loss: 0.6756\n",
      "Epoch 12/100\n",
      "\u001b[1m3/3\u001b[0m \u001b[32m━━━━━━━━━━━━━━━━━━━━\u001b[0m\u001b[37m\u001b[0m \u001b[1m0s\u001b[0m 29ms/step - accuracy: 0.9156 - loss: 0.2031 - val_accuracy: 0.6977 - val_loss: 0.6704\n",
      "Epoch 13/100\n",
      "\u001b[1m3/3\u001b[0m \u001b[32m━━━━━━━━━━━━━━━━━━━━\u001b[0m\u001b[37m\u001b[0m \u001b[1m0s\u001b[0m 27ms/step - accuracy: 0.9156 - loss: 0.2022 - val_accuracy: 0.7442 - val_loss: 0.6634\n",
      "Epoch 14/100\n",
      "\u001b[1m3/3\u001b[0m \u001b[32m━━━━━━━━━━━━━━━━━━━━\u001b[0m\u001b[37m\u001b[0m \u001b[1m0s\u001b[0m 26ms/step - accuracy: 0.9303 - loss: 0.1948 - val_accuracy: 0.7674 - val_loss: 0.6539\n",
      "Epoch 15/100\n",
      "\u001b[1m3/3\u001b[0m \u001b[32m━━━━━━━━━━━━━━━━━━━━\u001b[0m\u001b[37m\u001b[0m \u001b[1m0s\u001b[0m 27ms/step - accuracy: 0.9382 - loss: 0.1929 - val_accuracy: 0.8605 - val_loss: 0.6417\n",
      "Epoch 16/100\n",
      "\u001b[1m3/3\u001b[0m \u001b[32m━━━━━━━━━━━━━━━━━━━━\u001b[0m\u001b[37m\u001b[0m \u001b[1m0s\u001b[0m 50ms/step - accuracy: 0.9382 - loss: 0.1947 - val_accuracy: 0.8837 - val_loss: 0.6330\n",
      "Epoch 17/100\n",
      "\u001b[1m3/3\u001b[0m \u001b[32m━━━━━━━━━━━━━━━━━━━━\u001b[0m\u001b[37m\u001b[0m \u001b[1m0s\u001b[0m 30ms/step - accuracy: 0.9421 - loss: 0.1612 - val_accuracy: 0.8837 - val_loss: 0.6275\n",
      "Epoch 18/100\n",
      "\u001b[1m3/3\u001b[0m \u001b[32m━━━━━━━━━━━━━━━━━━━━\u001b[0m\u001b[37m\u001b[0m \u001b[1m0s\u001b[0m 26ms/step - accuracy: 0.9627 - loss: 0.1363 - val_accuracy: 0.9535 - val_loss: 0.6186\n",
      "Epoch 19/100\n",
      "\u001b[1m3/3\u001b[0m \u001b[32m━━━━━━━━━━━━━━━━━━━━\u001b[0m\u001b[37m\u001b[0m \u001b[1m0s\u001b[0m 26ms/step - accuracy: 0.9274 - loss: 0.1847 - val_accuracy: 0.9535 - val_loss: 0.6076\n",
      "Epoch 20/100\n",
      "\u001b[1m3/3\u001b[0m \u001b[32m━━━━━━━━━━━━━━━━━━━━\u001b[0m\u001b[37m\u001b[0m \u001b[1m0s\u001b[0m 28ms/step - accuracy: 0.9450 - loss: 0.1605 - val_accuracy: 0.9535 - val_loss: 0.6027\n",
      "Epoch 21/100\n",
      "\u001b[1m3/3\u001b[0m \u001b[32m━━━━━━━━━━━━━━━━━━━━\u001b[0m\u001b[37m\u001b[0m \u001b[1m0s\u001b[0m 26ms/step - accuracy: 0.9363 - loss: 0.1837 - val_accuracy: 0.9535 - val_loss: 0.5977\n",
      "Epoch 22/100\n",
      "\u001b[1m3/3\u001b[0m \u001b[32m━━━━━━━━━━━━━━━━━━━━\u001b[0m\u001b[37m\u001b[0m \u001b[1m0s\u001b[0m 25ms/step - accuracy: 0.9549 - loss: 0.1606 - val_accuracy: 0.9070 - val_loss: 0.6006\n",
      "Epoch 23/100\n",
      "\u001b[1m3/3\u001b[0m \u001b[32m━━━━━━━━━━━━━━━━━━━━\u001b[0m\u001b[37m\u001b[0m \u001b[1m0s\u001b[0m 29ms/step - accuracy: 0.9608 - loss: 0.1193 - val_accuracy: 0.8605 - val_loss: 0.6018\n",
      "Epoch 24/100\n",
      "\u001b[1m3/3\u001b[0m \u001b[32m━━━━━━━━━━━━━━━━━━━━\u001b[0m\u001b[37m\u001b[0m \u001b[1m0s\u001b[0m 27ms/step - accuracy: 0.9519 - loss: 0.1680 - val_accuracy: 0.8372 - val_loss: 0.5942\n",
      "Epoch 25/100\n",
      "\u001b[1m3/3\u001b[0m \u001b[32m━━━━━━━━━━━━━━━━━━━━\u001b[0m\u001b[37m\u001b[0m \u001b[1m0s\u001b[0m 30ms/step - accuracy: 0.9362 - loss: 0.1810 - val_accuracy: 0.9302 - val_loss: 0.5772\n",
      "Epoch 26/100\n",
      "\u001b[1m3/3\u001b[0m \u001b[32m━━━━━━━━━━━━━━━━━━━━\u001b[0m\u001b[37m\u001b[0m \u001b[1m0s\u001b[0m 28ms/step - accuracy: 0.9519 - loss: 0.1325 - val_accuracy: 0.9535 - val_loss: 0.5592\n",
      "Epoch 27/100\n",
      "\u001b[1m3/3\u001b[0m \u001b[32m━━━━━━━━━━━━━━━━━━━━\u001b[0m\u001b[37m\u001b[0m \u001b[1m0s\u001b[0m 26ms/step - accuracy: 0.9461 - loss: 0.1280 - val_accuracy: 0.9535 - val_loss: 0.5512\n",
      "Epoch 28/100\n",
      "\u001b[1m3/3\u001b[0m \u001b[32m━━━━━━━━━━━━━━━━━━━━\u001b[0m\u001b[37m\u001b[0m \u001b[1m0s\u001b[0m 26ms/step - accuracy: 0.9588 - loss: 0.1135 - val_accuracy: 0.9535 - val_loss: 0.5507\n",
      "Epoch 29/100\n",
      "\u001b[1m3/3\u001b[0m \u001b[32m━━━━━━━━━━━━━━━━━━━━\u001b[0m\u001b[37m\u001b[0m \u001b[1m0s\u001b[0m 26ms/step - accuracy: 0.9656 - loss: 0.1114 - val_accuracy: 0.9535 - val_loss: 0.5514\n",
      "Epoch 30/100\n",
      "\u001b[1m3/3\u001b[0m \u001b[32m━━━━━━━━━━━━━━━━━━━━\u001b[0m\u001b[37m\u001b[0m \u001b[1m0s\u001b[0m 30ms/step - accuracy: 0.9559 - loss: 0.1141 - val_accuracy: 0.9535 - val_loss: 0.5474\n",
      "Epoch 31/100\n",
      "\u001b[1m3/3\u001b[0m \u001b[32m━━━━━━━━━━━━━━━━━━━━\u001b[0m\u001b[37m\u001b[0m \u001b[1m0s\u001b[0m 28ms/step - accuracy: 0.9617 - loss: 0.1095 - val_accuracy: 0.9535 - val_loss: 0.5461\n",
      "Epoch 32/100\n",
      "\u001b[1m3/3\u001b[0m \u001b[32m━━━━━━━━━━━━━━━━━━━━\u001b[0m\u001b[37m\u001b[0m \u001b[1m0s\u001b[0m 24ms/step - accuracy: 0.9510 - loss: 0.1289 - val_accuracy: 0.8605 - val_loss: 0.5513\n",
      "Epoch 33/100\n",
      "\u001b[1m3/3\u001b[0m \u001b[32m━━━━━━━━━━━━━━━━━━━━\u001b[0m\u001b[37m\u001b[0m \u001b[1m0s\u001b[0m 25ms/step - accuracy: 0.9783 - loss: 0.1059 - val_accuracy: 0.8140 - val_loss: 0.5572\n",
      "Epoch 34/100\n",
      "\u001b[1m3/3\u001b[0m \u001b[32m━━━━━━━━━━━━━━━━━━━━\u001b[0m\u001b[37m\u001b[0m \u001b[1m0s\u001b[0m 27ms/step - accuracy: 0.9588 - loss: 0.0992 - val_accuracy: 0.8372 - val_loss: 0.5520\n",
      "Epoch 35/100\n",
      "\u001b[1m3/3\u001b[0m \u001b[32m━━━━━━━━━━━━━━━━━━━━\u001b[0m\u001b[37m\u001b[0m \u001b[1m0s\u001b[0m 24ms/step - accuracy: 0.9382 - loss: 0.1246 - val_accuracy: 0.8372 - val_loss: 0.5475\n",
      "Epoch 36/100\n",
      "\u001b[1m3/3\u001b[0m \u001b[32m━━━━━━━━━━━━━━━━━━━━\u001b[0m\u001b[37m\u001b[0m \u001b[1m0s\u001b[0m 25ms/step - accuracy: 0.9568 - loss: 0.1064 - val_accuracy: 0.8140 - val_loss: 0.5537\n",
      "Epoch 37/100\n",
      "\u001b[1m3/3\u001b[0m \u001b[32m━━━━━━━━━━━━━━━━━━━━\u001b[0m\u001b[37m\u001b[0m \u001b[1m0s\u001b[0m 26ms/step - accuracy: 0.9823 - loss: 0.1029 - val_accuracy: 0.7907 - val_loss: 0.5530\n",
      "Epoch 38/100\n",
      "\u001b[1m3/3\u001b[0m \u001b[32m━━━━━━━━━━━━━━━━━━━━\u001b[0m\u001b[37m\u001b[0m \u001b[1m0s\u001b[0m 26ms/step - accuracy: 0.9784 - loss: 0.0847 - val_accuracy: 0.8605 - val_loss: 0.5272\n",
      "Epoch 39/100\n",
      "\u001b[1m3/3\u001b[0m \u001b[32m━━━━━━━━━━━━━━━━━━━━\u001b[0m\u001b[37m\u001b[0m \u001b[1m0s\u001b[0m 25ms/step - accuracy: 0.9657 - loss: 0.1080 - val_accuracy: 0.9070 - val_loss: 0.5050\n",
      "Epoch 40/100\n",
      "\u001b[1m3/3\u001b[0m \u001b[32m━━━━━━━━━━━━━━━━━━━━\u001b[0m\u001b[37m\u001b[0m \u001b[1m0s\u001b[0m 29ms/step - accuracy: 0.9657 - loss: 0.1025 - val_accuracy: 0.9535 - val_loss: 0.4949\n",
      "Epoch 41/100\n",
      "\u001b[1m3/3\u001b[0m \u001b[32m━━━━━━━━━━━━━━━━━━━━\u001b[0m\u001b[37m\u001b[0m \u001b[1m0s\u001b[0m 26ms/step - accuracy: 0.9618 - loss: 0.0964 - val_accuracy: 0.8605 - val_loss: 0.5129\n",
      "Epoch 42/100\n",
      "\u001b[1m3/3\u001b[0m \u001b[32m━━━━━━━━━━━━━━━━━━━━\u001b[0m\u001b[37m\u001b[0m \u001b[1m0s\u001b[0m 25ms/step - accuracy: 0.9509 - loss: 0.1106 - val_accuracy: 0.8605 - val_loss: 0.5058\n",
      "Epoch 43/100\n",
      "\u001b[1m3/3\u001b[0m \u001b[32m━━━━━━━━━━━━━━━━━━━━\u001b[0m\u001b[37m\u001b[0m \u001b[1m0s\u001b[0m 26ms/step - accuracy: 0.9735 - loss: 0.1054 - val_accuracy: 0.8837 - val_loss: 0.4868\n",
      "Epoch 44/100\n",
      "\u001b[1m3/3\u001b[0m \u001b[32m━━━━━━━━━━━━━━━━━━━━\u001b[0m\u001b[37m\u001b[0m \u001b[1m0s\u001b[0m 26ms/step - accuracy: 0.9666 - loss: 0.0966 - val_accuracy: 0.9535 - val_loss: 0.4716\n",
      "Epoch 45/100\n",
      "\u001b[1m3/3\u001b[0m \u001b[32m━━━━━━━━━━━━━━━━━━━━\u001b[0m\u001b[37m\u001b[0m \u001b[1m0s\u001b[0m 26ms/step - accuracy: 0.9686 - loss: 0.0960 - val_accuracy: 0.9302 - val_loss: 0.4729\n",
      "Epoch 46/100\n",
      "\u001b[1m3/3\u001b[0m \u001b[32m━━━━━━━━━━━━━━━━━━━━\u001b[0m\u001b[37m\u001b[0m \u001b[1m0s\u001b[0m 26ms/step - accuracy: 0.9725 - loss: 0.0978 - val_accuracy: 0.8372 - val_loss: 0.4842\n",
      "Epoch 47/100\n",
      "\u001b[1m3/3\u001b[0m \u001b[32m━━━━━━━━━━━━━━━━━━━━\u001b[0m\u001b[37m\u001b[0m \u001b[1m0s\u001b[0m 31ms/step - accuracy: 0.9715 - loss: 0.1094 - val_accuracy: 0.7907 - val_loss: 0.4964\n",
      "Epoch 48/100\n",
      "\u001b[1m3/3\u001b[0m \u001b[32m━━━━━━━━━━━━━━━━━━━━\u001b[0m\u001b[37m\u001b[0m \u001b[1m0s\u001b[0m 29ms/step - accuracy: 0.9715 - loss: 0.1019 - val_accuracy: 0.7907 - val_loss: 0.4831\n",
      "Epoch 49/100\n",
      "\u001b[1m3/3\u001b[0m \u001b[32m━━━━━━━━━━━━━━━━━━━━\u001b[0m\u001b[37m\u001b[0m \u001b[1m0s\u001b[0m 36ms/step - accuracy: 0.9559 - loss: 0.0690 - val_accuracy: 0.8372 - val_loss: 0.4631\n",
      "Epoch 50/100\n",
      "\u001b[1m3/3\u001b[0m \u001b[32m━━━━━━━━━━━━━━━━━━━━\u001b[0m\u001b[37m\u001b[0m \u001b[1m0s\u001b[0m 36ms/step - accuracy: 0.9588 - loss: 0.1018 - val_accuracy: 0.9070 - val_loss: 0.4360\n",
      "Epoch 51/100\n",
      "\u001b[1m3/3\u001b[0m \u001b[32m━━━━━━━━━━━━━━━━━━━━\u001b[0m\u001b[37m\u001b[0m \u001b[1m0s\u001b[0m 47ms/step - accuracy: 0.9902 - loss: 0.0548 - val_accuracy: 0.9070 - val_loss: 0.4351\n",
      "Epoch 52/100\n",
      "\u001b[1m3/3\u001b[0m \u001b[32m━━━━━━━━━━━━━━━━━━━━\u001b[0m\u001b[37m\u001b[0m \u001b[1m0s\u001b[0m 34ms/step - accuracy: 0.9951 - loss: 0.0562 - val_accuracy: 0.9070 - val_loss: 0.4313\n",
      "Epoch 53/100\n",
      "\u001b[1m3/3\u001b[0m \u001b[32m━━━━━━━━━━━━━━━━━━━━\u001b[0m\u001b[37m\u001b[0m \u001b[1m0s\u001b[0m 30ms/step - accuracy: 0.9833 - loss: 0.0694 - val_accuracy: 0.8605 - val_loss: 0.4402\n",
      "Epoch 54/100\n",
      "\u001b[1m3/3\u001b[0m \u001b[32m━━━━━━━━━━━━━━━━━━━━\u001b[0m\u001b[37m\u001b[0m \u001b[1m0s\u001b[0m 27ms/step - accuracy: 0.9814 - loss: 0.0645 - val_accuracy: 0.8140 - val_loss: 0.4530\n",
      "Epoch 55/100\n",
      "\u001b[1m3/3\u001b[0m \u001b[32m━━━━━━━━━━━━━━━━━━━━\u001b[0m\u001b[37m\u001b[0m \u001b[1m0s\u001b[0m 28ms/step - accuracy: 0.9872 - loss: 0.0534 - val_accuracy: 0.8140 - val_loss: 0.4475\n",
      "Epoch 56/100\n",
      "\u001b[1m3/3\u001b[0m \u001b[32m━━━━━━━━━━━━━━━━━━━━\u001b[0m\u001b[37m\u001b[0m \u001b[1m0s\u001b[0m 27ms/step - accuracy: 0.9775 - loss: 0.0552 - val_accuracy: 0.8140 - val_loss: 0.4340\n",
      "Epoch 57/100\n",
      "\u001b[1m3/3\u001b[0m \u001b[32m━━━━━━━━━━━━━━━━━━━━\u001b[0m\u001b[37m\u001b[0m \u001b[1m0s\u001b[0m 27ms/step - accuracy: 0.9951 - loss: 0.0474 - val_accuracy: 0.8372 - val_loss: 0.4118\n",
      "Epoch 58/100\n",
      "\u001b[1m3/3\u001b[0m \u001b[32m━━━━━━━━━━━━━━━━━━━━\u001b[0m\u001b[37m\u001b[0m \u001b[1m0s\u001b[0m 29ms/step - accuracy: 0.9863 - loss: 0.0486 - val_accuracy: 0.9070 - val_loss: 0.3886\n",
      "Epoch 59/100\n",
      "\u001b[1m3/3\u001b[0m \u001b[32m━━━━━━━━━━━━━━━━━━━━\u001b[0m\u001b[37m\u001b[0m \u001b[1m0s\u001b[0m 29ms/step - accuracy: 0.9745 - loss: 0.0579 - val_accuracy: 0.9302 - val_loss: 0.3816\n",
      "Epoch 60/100\n",
      "\u001b[1m3/3\u001b[0m \u001b[32m━━━━━━━━━━━━━━━━━━━━\u001b[0m\u001b[37m\u001b[0m \u001b[1m0s\u001b[0m 29ms/step - accuracy: 0.9559 - loss: 0.0876 - val_accuracy: 0.9302 - val_loss: 0.3753\n",
      "Epoch 61/100\n",
      "\u001b[1m3/3\u001b[0m \u001b[32m━━━━━━━━━━━━━━━━━━━━\u001b[0m\u001b[37m\u001b[0m \u001b[1m0s\u001b[0m 93ms/step - accuracy: 0.9970 - loss: 0.0382 - val_accuracy: 0.9302 - val_loss: 0.3686\n",
      "Epoch 62/100\n",
      "\u001b[1m3/3\u001b[0m \u001b[32m━━━━━━━━━━━━━━━━━━━━\u001b[0m\u001b[37m\u001b[0m \u001b[1m0s\u001b[0m 35ms/step - accuracy: 0.9686 - loss: 0.0731 - val_accuracy: 0.9535 - val_loss: 0.3601\n",
      "Epoch 63/100\n",
      "\u001b[1m3/3\u001b[0m \u001b[32m━━━━━━━━━━━━━━━━━━━━\u001b[0m\u001b[37m\u001b[0m \u001b[1m0s\u001b[0m 25ms/step - accuracy: 0.9833 - loss: 0.0746 - val_accuracy: 0.9070 - val_loss: 0.3730\n",
      "Epoch 64/100\n",
      "\u001b[1m3/3\u001b[0m \u001b[32m━━━━━━━━━━━━━━━━━━━━\u001b[0m\u001b[37m\u001b[0m \u001b[1m0s\u001b[0m 25ms/step - accuracy: 0.9775 - loss: 0.0549 - val_accuracy: 0.8372 - val_loss: 0.3921\n",
      "Epoch 65/100\n",
      "\u001b[1m3/3\u001b[0m \u001b[32m━━━━━━━━━━━━━━━━━━━━\u001b[0m\u001b[37m\u001b[0m \u001b[1m0s\u001b[0m 28ms/step - accuracy: 0.9735 - loss: 0.0551 - val_accuracy: 0.8372 - val_loss: 0.4005\n",
      "Epoch 66/100\n",
      "\u001b[1m3/3\u001b[0m \u001b[32m━━━━━━━━━━━━━━━━━━━━\u001b[0m\u001b[37m\u001b[0m \u001b[1m0s\u001b[0m 25ms/step - accuracy: 0.9725 - loss: 0.0460 - val_accuracy: 0.8372 - val_loss: 0.4018\n",
      "Epoch 67/100\n",
      "\u001b[1m3/3\u001b[0m \u001b[32m━━━━━━━━━━━━━━━━━━━━\u001b[0m\u001b[37m\u001b[0m \u001b[1m0s\u001b[0m 30ms/step - accuracy: 0.9902 - loss: 0.0510 - val_accuracy: 0.8140 - val_loss: 0.4090\n",
      "Epoch 68/100\n",
      "\u001b[1m3/3\u001b[0m \u001b[32m━━━━━━━━━━━━━━━━━━━━\u001b[0m\u001b[37m\u001b[0m \u001b[1m0s\u001b[0m 33ms/step - accuracy: 0.9686 - loss: 0.0532 - val_accuracy: 0.8140 - val_loss: 0.3949\n",
      "Epoch 69/100\n",
      "\u001b[1m3/3\u001b[0m \u001b[32m━━━━━━━━━━━━━━━━━━━━\u001b[0m\u001b[37m\u001b[0m \u001b[1m0s\u001b[0m 24ms/step - accuracy: 0.9921 - loss: 0.0545 - val_accuracy: 0.8140 - val_loss: 0.3946\n",
      "Epoch 70/100\n",
      "\u001b[1m3/3\u001b[0m \u001b[32m━━━━━━━━━━━━━━━━━━━━\u001b[0m\u001b[37m\u001b[0m \u001b[1m0s\u001b[0m 26ms/step - accuracy: 0.9745 - loss: 0.0576 - val_accuracy: 0.8140 - val_loss: 0.3927\n",
      "Epoch 71/100\n",
      "\u001b[1m3/3\u001b[0m \u001b[32m━━━━━━━━━━━━━━━━━━━━\u001b[0m\u001b[37m\u001b[0m \u001b[1m0s\u001b[0m 26ms/step - accuracy: 0.9823 - loss: 0.0538 - val_accuracy: 0.7907 - val_loss: 0.4227\n",
      "Epoch 72/100\n",
      "\u001b[1m3/3\u001b[0m \u001b[32m━━━━━━━━━━━━━━━━━━━━\u001b[0m\u001b[37m\u001b[0m \u001b[1m0s\u001b[0m 26ms/step - accuracy: 0.9863 - loss: 0.0474 - val_accuracy: 0.7907 - val_loss: 0.4377\n",
      "\u001b[1m2/2\u001b[0m \u001b[32m━━━━━━━━━━━━━━━━━━━━\u001b[0m\u001b[37m\u001b[0m \u001b[1m0s\u001b[0m 12ms/step - accuracy: 0.8954 - loss: 0.3648\n",
      "Test Accuracy: 0.9056603908538818\n",
      "\u001b[1m2/2\u001b[0m \u001b[32m━━━━━━━━━━━━━━━━━━━━\u001b[0m\u001b[37m\u001b[0m \u001b[1m1s\u001b[0m 354ms/step\n",
      "              precision    recall  f1-score   support\n",
      "\n",
      "         0.0       0.91      0.98      0.94        43\n",
      "         1.0       0.86      0.60      0.71        10\n",
      "\n",
      "    accuracy                           0.91        53\n",
      "   macro avg       0.89      0.79      0.82        53\n",
      "weighted avg       0.90      0.91      0.90        53\n",
      "\n"
     ]
    }
   ],
   "source": [
    "# Calcular pesos das classes\n",
    "class_weights = compute_class_weight(class_weight='balanced', classes=np.unique(train_y), y=train_y)\n",
    "class_weights = {i : class_weights[i] for i in range(len(class_weights))}\n",
    "\n",
    "model = Sequential()\n",
    "model.add(LSTM(units=128, input_shape=(train_x.shape[1], train_x.shape[2]), return_sequences=True))\n",
    "model.add(Dropout(0.2))\n",
    "model.add(BatchNormalization())\n",
    "model.add(LSTM(units=64, return_sequences=True))\n",
    "model.add(Dropout(0.2))\n",
    "model.add(BatchNormalization())\n",
    "model.add(LSTM(units=32, return_sequences=False))\n",
    "model.add(Dropout(0.2))\n",
    "model.add(BatchNormalization())\n",
    "model.add(Dense(units=1, activation='sigmoid'))  \n",
    "\n",
    "# Compilação do modelo\n",
    "model.compile(optimizer='adam', loss='binary_crossentropy', metrics=['accuracy'])\n",
    "\n",
    "# Definição dos callbacks\n",
    "early_stopping = EarlyStopping(monitor='val_loss', patience=10, restore_best_weights=True)\n",
    "\n",
    "# Treinamento do modelo\n",
    "history = model.fit(\n",
    "    train_x, train_y,\n",
    "    epochs=100,\n",
    "    batch_size=64,\n",
    "    validation_split=0.2,\n",
    "    class_weight=class_weights,\n",
    "    callbacks=[early_stopping]\n",
    ")\n",
    "\n",
    "# Avaliação do modelo no conjunto de teste\n",
    "test_loss, test_accuracy = model.evaluate(test_x, test_y)\n",
    "print(\"Test Accuracy:\", test_accuracy)\n",
    "\n",
    "# Predições no conjunto de teste\n",
    "predictions = (model.predict(test_x) > 0.5).astype(\"int32\")\n",
    "\n",
    "# Relatório de classificação\n",
    "print(classification_report(test_y, predictions))\n"
   ]
  },
  {
   "cell_type": "code",
   "execution_count": 195,
   "metadata": {},
   "outputs": [
    {
     "data": {
      "text/html": [
       "<pre style=\"white-space:pre;overflow-x:auto;line-height:normal;font-family:Menlo,'DejaVu Sans Mono',consolas,'Courier New',monospace\"><span style=\"font-weight: bold\">Model: \"sequential_36\"</span>\n",
       "</pre>\n"
      ],
      "text/plain": [
       "\u001b[1mModel: \"sequential_36\"\u001b[0m\n"
      ]
     },
     "metadata": {},
     "output_type": "display_data"
    },
    {
     "data": {
      "text/html": [
       "<pre style=\"white-space:pre;overflow-x:auto;line-height:normal;font-family:Menlo,'DejaVu Sans Mono',consolas,'Courier New',monospace\">┏━━━━━━━━━━━━━━━━━━━━━━━━━━━━━━━━━┳━━━━━━━━━━━━━━━━━━━━━━━━┳━━━━━━━━━━━━━━━┓\n",
       "┃<span style=\"font-weight: bold\"> Layer (type)                    </span>┃<span style=\"font-weight: bold\"> Output Shape           </span>┃<span style=\"font-weight: bold\">       Param # </span>┃\n",
       "┡━━━━━━━━━━━━━━━━━━━━━━━━━━━━━━━━━╇━━━━━━━━━━━━━━━━━━━━━━━━╇━━━━━━━━━━━━━━━┩\n",
       "│ lstm_91 (<span style=\"color: #0087ff; text-decoration-color: #0087ff\">LSTM</span>)                  │ (<span style=\"color: #00d7ff; text-decoration-color: #00d7ff\">None</span>, <span style=\"color: #00af00; text-decoration-color: #00af00\">10</span>, <span style=\"color: #00af00; text-decoration-color: #00af00\">128</span>)        │        <span style=\"color: #00af00; text-decoration-color: #00af00\">70,144</span> │\n",
       "├─────────────────────────────────┼────────────────────────┼───────────────┤\n",
       "│ dropout_91 (<span style=\"color: #0087ff; text-decoration-color: #0087ff\">Dropout</span>)            │ (<span style=\"color: #00d7ff; text-decoration-color: #00d7ff\">None</span>, <span style=\"color: #00af00; text-decoration-color: #00af00\">10</span>, <span style=\"color: #00af00; text-decoration-color: #00af00\">128</span>)        │             <span style=\"color: #00af00; text-decoration-color: #00af00\">0</span> │\n",
       "├─────────────────────────────────┼────────────────────────┼───────────────┤\n",
       "│ batch_normalization_15          │ (<span style=\"color: #00d7ff; text-decoration-color: #00d7ff\">None</span>, <span style=\"color: #00af00; text-decoration-color: #00af00\">10</span>, <span style=\"color: #00af00; text-decoration-color: #00af00\">128</span>)        │           <span style=\"color: #00af00; text-decoration-color: #00af00\">512</span> │\n",
       "│ (<span style=\"color: #0087ff; text-decoration-color: #0087ff\">BatchNormalization</span>)            │                        │               │\n",
       "├─────────────────────────────────┼────────────────────────┼───────────────┤\n",
       "│ lstm_92 (<span style=\"color: #0087ff; text-decoration-color: #0087ff\">LSTM</span>)                  │ (<span style=\"color: #00d7ff; text-decoration-color: #00d7ff\">None</span>, <span style=\"color: #00af00; text-decoration-color: #00af00\">10</span>, <span style=\"color: #00af00; text-decoration-color: #00af00\">64</span>)         │        <span style=\"color: #00af00; text-decoration-color: #00af00\">49,408</span> │\n",
       "├─────────────────────────────────┼────────────────────────┼───────────────┤\n",
       "│ dropout_92 (<span style=\"color: #0087ff; text-decoration-color: #0087ff\">Dropout</span>)            │ (<span style=\"color: #00d7ff; text-decoration-color: #00d7ff\">None</span>, <span style=\"color: #00af00; text-decoration-color: #00af00\">10</span>, <span style=\"color: #00af00; text-decoration-color: #00af00\">64</span>)         │             <span style=\"color: #00af00; text-decoration-color: #00af00\">0</span> │\n",
       "├─────────────────────────────────┼────────────────────────┼───────────────┤\n",
       "│ batch_normalization_16          │ (<span style=\"color: #00d7ff; text-decoration-color: #00d7ff\">None</span>, <span style=\"color: #00af00; text-decoration-color: #00af00\">10</span>, <span style=\"color: #00af00; text-decoration-color: #00af00\">64</span>)         │           <span style=\"color: #00af00; text-decoration-color: #00af00\">256</span> │\n",
       "│ (<span style=\"color: #0087ff; text-decoration-color: #0087ff\">BatchNormalization</span>)            │                        │               │\n",
       "├─────────────────────────────────┼────────────────────────┼───────────────┤\n",
       "│ lstm_93 (<span style=\"color: #0087ff; text-decoration-color: #0087ff\">LSTM</span>)                  │ (<span style=\"color: #00d7ff; text-decoration-color: #00d7ff\">None</span>, <span style=\"color: #00af00; text-decoration-color: #00af00\">32</span>)             │        <span style=\"color: #00af00; text-decoration-color: #00af00\">12,416</span> │\n",
       "├─────────────────────────────────┼────────────────────────┼───────────────┤\n",
       "│ dropout_93 (<span style=\"color: #0087ff; text-decoration-color: #0087ff\">Dropout</span>)            │ (<span style=\"color: #00d7ff; text-decoration-color: #00d7ff\">None</span>, <span style=\"color: #00af00; text-decoration-color: #00af00\">32</span>)             │             <span style=\"color: #00af00; text-decoration-color: #00af00\">0</span> │\n",
       "├─────────────────────────────────┼────────────────────────┼───────────────┤\n",
       "│ batch_normalization_17          │ (<span style=\"color: #00d7ff; text-decoration-color: #00d7ff\">None</span>, <span style=\"color: #00af00; text-decoration-color: #00af00\">32</span>)             │           <span style=\"color: #00af00; text-decoration-color: #00af00\">128</span> │\n",
       "│ (<span style=\"color: #0087ff; text-decoration-color: #0087ff\">BatchNormalization</span>)            │                        │               │\n",
       "├─────────────────────────────────┼────────────────────────┼───────────────┤\n",
       "│ dense_31 (<span style=\"color: #0087ff; text-decoration-color: #0087ff\">Dense</span>)                │ (<span style=\"color: #00d7ff; text-decoration-color: #00d7ff\">None</span>, <span style=\"color: #00af00; text-decoration-color: #00af00\">1</span>)              │            <span style=\"color: #00af00; text-decoration-color: #00af00\">33</span> │\n",
       "└─────────────────────────────────┴────────────────────────┴───────────────┘\n",
       "</pre>\n"
      ],
      "text/plain": [
       "┏━━━━━━━━━━━━━━━━━━━━━━━━━━━━━━━━━┳━━━━━━━━━━━━━━━━━━━━━━━━┳━━━━━━━━━━━━━━━┓\n",
       "┃\u001b[1m \u001b[0m\u001b[1mLayer (type)                   \u001b[0m\u001b[1m \u001b[0m┃\u001b[1m \u001b[0m\u001b[1mOutput Shape          \u001b[0m\u001b[1m \u001b[0m┃\u001b[1m \u001b[0m\u001b[1m      Param #\u001b[0m\u001b[1m \u001b[0m┃\n",
       "┡━━━━━━━━━━━━━━━━━━━━━━━━━━━━━━━━━╇━━━━━━━━━━━━━━━━━━━━━━━━╇━━━━━━━━━━━━━━━┩\n",
       "│ lstm_91 (\u001b[38;5;33mLSTM\u001b[0m)                  │ (\u001b[38;5;45mNone\u001b[0m, \u001b[38;5;34m10\u001b[0m, \u001b[38;5;34m128\u001b[0m)        │        \u001b[38;5;34m70,144\u001b[0m │\n",
       "├─────────────────────────────────┼────────────────────────┼───────────────┤\n",
       "│ dropout_91 (\u001b[38;5;33mDropout\u001b[0m)            │ (\u001b[38;5;45mNone\u001b[0m, \u001b[38;5;34m10\u001b[0m, \u001b[38;5;34m128\u001b[0m)        │             \u001b[38;5;34m0\u001b[0m │\n",
       "├─────────────────────────────────┼────────────────────────┼───────────────┤\n",
       "│ batch_normalization_15          │ (\u001b[38;5;45mNone\u001b[0m, \u001b[38;5;34m10\u001b[0m, \u001b[38;5;34m128\u001b[0m)        │           \u001b[38;5;34m512\u001b[0m │\n",
       "│ (\u001b[38;5;33mBatchNormalization\u001b[0m)            │                        │               │\n",
       "├─────────────────────────────────┼────────────────────────┼───────────────┤\n",
       "│ lstm_92 (\u001b[38;5;33mLSTM\u001b[0m)                  │ (\u001b[38;5;45mNone\u001b[0m, \u001b[38;5;34m10\u001b[0m, \u001b[38;5;34m64\u001b[0m)         │        \u001b[38;5;34m49,408\u001b[0m │\n",
       "├─────────────────────────────────┼────────────────────────┼───────────────┤\n",
       "│ dropout_92 (\u001b[38;5;33mDropout\u001b[0m)            │ (\u001b[38;5;45mNone\u001b[0m, \u001b[38;5;34m10\u001b[0m, \u001b[38;5;34m64\u001b[0m)         │             \u001b[38;5;34m0\u001b[0m │\n",
       "├─────────────────────────────────┼────────────────────────┼───────────────┤\n",
       "│ batch_normalization_16          │ (\u001b[38;5;45mNone\u001b[0m, \u001b[38;5;34m10\u001b[0m, \u001b[38;5;34m64\u001b[0m)         │           \u001b[38;5;34m256\u001b[0m │\n",
       "│ (\u001b[38;5;33mBatchNormalization\u001b[0m)            │                        │               │\n",
       "├─────────────────────────────────┼────────────────────────┼───────────────┤\n",
       "│ lstm_93 (\u001b[38;5;33mLSTM\u001b[0m)                  │ (\u001b[38;5;45mNone\u001b[0m, \u001b[38;5;34m32\u001b[0m)             │        \u001b[38;5;34m12,416\u001b[0m │\n",
       "├─────────────────────────────────┼────────────────────────┼───────────────┤\n",
       "│ dropout_93 (\u001b[38;5;33mDropout\u001b[0m)            │ (\u001b[38;5;45mNone\u001b[0m, \u001b[38;5;34m32\u001b[0m)             │             \u001b[38;5;34m0\u001b[0m │\n",
       "├─────────────────────────────────┼────────────────────────┼───────────────┤\n",
       "│ batch_normalization_17          │ (\u001b[38;5;45mNone\u001b[0m, \u001b[38;5;34m32\u001b[0m)             │           \u001b[38;5;34m128\u001b[0m │\n",
       "│ (\u001b[38;5;33mBatchNormalization\u001b[0m)            │                        │               │\n",
       "├─────────────────────────────────┼────────────────────────┼───────────────┤\n",
       "│ dense_31 (\u001b[38;5;33mDense\u001b[0m)                │ (\u001b[38;5;45mNone\u001b[0m, \u001b[38;5;34m1\u001b[0m)              │            \u001b[38;5;34m33\u001b[0m │\n",
       "└─────────────────────────────────┴────────────────────────┴───────────────┘\n"
      ]
     },
     "metadata": {},
     "output_type": "display_data"
    },
    {
     "data": {
      "text/html": [
       "<pre style=\"white-space:pre;overflow-x:auto;line-height:normal;font-family:Menlo,'DejaVu Sans Mono',consolas,'Courier New',monospace\"><span style=\"font-weight: bold\"> Total params: </span><span style=\"color: #00af00; text-decoration-color: #00af00\">397,797</span> (1.52 MB)\n",
       "</pre>\n"
      ],
      "text/plain": [
       "\u001b[1m Total params: \u001b[0m\u001b[38;5;34m397,797\u001b[0m (1.52 MB)\n"
      ]
     },
     "metadata": {},
     "output_type": "display_data"
    },
    {
     "data": {
      "text/html": [
       "<pre style=\"white-space:pre;overflow-x:auto;line-height:normal;font-family:Menlo,'DejaVu Sans Mono',consolas,'Courier New',monospace\"><span style=\"font-weight: bold\"> Trainable params: </span><span style=\"color: #00af00; text-decoration-color: #00af00\">132,449</span> (517.38 KB)\n",
       "</pre>\n"
      ],
      "text/plain": [
       "\u001b[1m Trainable params: \u001b[0m\u001b[38;5;34m132,449\u001b[0m (517.38 KB)\n"
      ]
     },
     "metadata": {},
     "output_type": "display_data"
    },
    {
     "data": {
      "text/html": [
       "<pre style=\"white-space:pre;overflow-x:auto;line-height:normal;font-family:Menlo,'DejaVu Sans Mono',consolas,'Courier New',monospace\"><span style=\"font-weight: bold\"> Non-trainable params: </span><span style=\"color: #00af00; text-decoration-color: #00af00\">448</span> (1.75 KB)\n",
       "</pre>\n"
      ],
      "text/plain": [
       "\u001b[1m Non-trainable params: \u001b[0m\u001b[38;5;34m448\u001b[0m (1.75 KB)\n"
      ]
     },
     "metadata": {},
     "output_type": "display_data"
    },
    {
     "data": {
      "text/html": [
       "<pre style=\"white-space:pre;overflow-x:auto;line-height:normal;font-family:Menlo,'DejaVu Sans Mono',consolas,'Courier New',monospace\"><span style=\"font-weight: bold\"> Optimizer params: </span><span style=\"color: #00af00; text-decoration-color: #00af00\">264,900</span> (1.01 MB)\n",
       "</pre>\n"
      ],
      "text/plain": [
       "\u001b[1m Optimizer params: \u001b[0m\u001b[38;5;34m264,900\u001b[0m (1.01 MB)\n"
      ]
     },
     "metadata": {},
     "output_type": "display_data"
    }
   ],
   "source": [
    "model.summary()"
   ]
  },
  {
   "cell_type": "code",
   "execution_count": 196,
   "metadata": {},
   "outputs": [
    {
     "data": {
      "image/png": "[encoded data removed]",
      "text/plain": [
       "<Figure size 640x480 with 1 Axes>"
      ]
     },
     "metadata": {},
     "output_type": "display_data"
    }
   ],
   "source": [
    "# Plotagem dos valores de perda de treinamento e validação\n",
    "plt.plot(history.history['loss'])\n",
    "plt.plot(history.history['val_loss'])\n",
    "plt.title('Model Loss')\n",
    "plt.xlabel('Epoch')\n",
    "plt.ylabel('Loss')\n",
    "plt.legend(['Train', 'Validation'], loc='upper right')\n",
    "plt.show()"
   ]
  },
  {
   "cell_type": "code",
   "execution_count": 197,
   "metadata": {},
   "outputs": [
    {
     "data": {
      "image/png": "[encoded data removed]",
      "text/plain": [
       "<Figure size 640x480 with 1 Axes>"
      ]
     },
     "metadata": {},
     "output_type": "display_data"
    }
   ],
   "source": [
    "# Plotagem da acurácia de treinamento e validação\n",
    "plt.plot(history.history['accuracy'])\n",
    "plt.plot(history.history['val_accuracy'])\n",
    "plt.title('Model Accuracy')\n",
    "plt.xlabel('Epoch')\n",
    "plt.ylabel('Accuracy')\n",
    "plt.legend(['Train', 'Validation'], loc='lower right')\n",
    "plt.show()"
   ]
  }
 ],
 "metadata": {
  "kernelspec": {
   "display_name": "Python 3",
   "language": "python",
   "name": "python3"
  },
  "language_info": {
   "codemirror_mode": {
    "name": "ipython",
    "version": 3
   },
   "file_extension": ".py",
   "mimetype": "text/x-python",
   "name": "python",
   "nbconvert_exporter": "python",
   "pygments_lexer": "ipython3",
   "version": "3.10.5"
  }
 },
 "nbformat": 4,
 "nbformat_minor": 2
}
